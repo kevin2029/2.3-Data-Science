{
 "cells": [
  {
   "cell_type": "code",
   "execution_count": 1,
   "metadata": {},
   "outputs": [],
   "source": [
    "import scipy.stats as st\n",
    "import pandas as pd\n",
    "videoGamesSales = pd.read_csv('Datasets/vgsales.csv', sep= ',')"
   ]
  },
  {
   "cell_type": "code",
   "execution_count": 2,
   "metadata": {},
   "outputs": [
    {
     "data": {
      "text/html": [
       "<div>\n",
       "<style scoped>\n",
       "    .dataframe tbody tr th:only-of-type {\n",
       "        vertical-align: middle;\n",
       "    }\n",
       "\n",
       "    .dataframe tbody tr th {\n",
       "        vertical-align: top;\n",
       "    }\n",
       "\n",
       "    .dataframe thead th {\n",
       "        text-align: right;\n",
       "    }\n",
       "</style>\n",
       "<table border=\"1\" class=\"dataframe\">\n",
       "  <thead>\n",
       "    <tr style=\"text-align: right;\">\n",
       "      <th></th>\n",
       "      <th>Rank</th>\n",
       "      <th>Name</th>\n",
       "      <th>Platform</th>\n",
       "      <th>Year</th>\n",
       "      <th>Genre</th>\n",
       "      <th>Publisher</th>\n",
       "      <th>NA_Sales</th>\n",
       "      <th>EU_Sales</th>\n",
       "      <th>JP_Sales</th>\n",
       "      <th>Other_Sales</th>\n",
       "      <th>Global_Sales</th>\n",
       "    </tr>\n",
       "  </thead>\n",
       "  <tbody>\n",
       "    <tr>\n",
       "      <th>0</th>\n",
       "      <td>1</td>\n",
       "      <td>Wii Sports</td>\n",
       "      <td>Wii</td>\n",
       "      <td>2006.0</td>\n",
       "      <td>Sports</td>\n",
       "      <td>Nintendo</td>\n",
       "      <td>41.49</td>\n",
       "      <td>29.02</td>\n",
       "      <td>3.77</td>\n",
       "      <td>8.46</td>\n",
       "      <td>82.74</td>\n",
       "    </tr>\n",
       "    <tr>\n",
       "      <th>1</th>\n",
       "      <td>2</td>\n",
       "      <td>Super Mario Bros.</td>\n",
       "      <td>NES</td>\n",
       "      <td>1985.0</td>\n",
       "      <td>Platform</td>\n",
       "      <td>Nintendo</td>\n",
       "      <td>29.08</td>\n",
       "      <td>3.58</td>\n",
       "      <td>6.81</td>\n",
       "      <td>0.77</td>\n",
       "      <td>40.24</td>\n",
       "    </tr>\n",
       "    <tr>\n",
       "      <th>2</th>\n",
       "      <td>3</td>\n",
       "      <td>Mario Kart Wii</td>\n",
       "      <td>Wii</td>\n",
       "      <td>2008.0</td>\n",
       "      <td>Racing</td>\n",
       "      <td>Nintendo</td>\n",
       "      <td>15.85</td>\n",
       "      <td>12.88</td>\n",
       "      <td>3.79</td>\n",
       "      <td>3.31</td>\n",
       "      <td>35.82</td>\n",
       "    </tr>\n",
       "    <tr>\n",
       "      <th>3</th>\n",
       "      <td>4</td>\n",
       "      <td>Wii Sports Resort</td>\n",
       "      <td>Wii</td>\n",
       "      <td>2009.0</td>\n",
       "      <td>Sports</td>\n",
       "      <td>Nintendo</td>\n",
       "      <td>15.75</td>\n",
       "      <td>11.01</td>\n",
       "      <td>3.28</td>\n",
       "      <td>2.96</td>\n",
       "      <td>33.00</td>\n",
       "    </tr>\n",
       "    <tr>\n",
       "      <th>4</th>\n",
       "      <td>5</td>\n",
       "      <td>Pokemon Red/Pokemon Blue</td>\n",
       "      <td>GB</td>\n",
       "      <td>1996.0</td>\n",
       "      <td>Role-Playing</td>\n",
       "      <td>Nintendo</td>\n",
       "      <td>11.27</td>\n",
       "      <td>8.89</td>\n",
       "      <td>10.22</td>\n",
       "      <td>1.00</td>\n",
       "      <td>31.37</td>\n",
       "    </tr>\n",
       "  </tbody>\n",
       "</table>\n",
       "</div>"
      ],
      "text/plain": [
       "   Rank                      Name Platform    Year         Genre Publisher  \\\n",
       "0     1                Wii Sports      Wii  2006.0        Sports  Nintendo   \n",
       "1     2         Super Mario Bros.      NES  1985.0      Platform  Nintendo   \n",
       "2     3            Mario Kart Wii      Wii  2008.0        Racing  Nintendo   \n",
       "3     4         Wii Sports Resort      Wii  2009.0        Sports  Nintendo   \n",
       "4     5  Pokemon Red/Pokemon Blue       GB  1996.0  Role-Playing  Nintendo   \n",
       "\n",
       "   NA_Sales  EU_Sales  JP_Sales  Other_Sales  Global_Sales  \n",
       "0     41.49     29.02      3.77         8.46         82.74  \n",
       "1     29.08      3.58      6.81         0.77         40.24  \n",
       "2     15.85     12.88      3.79         3.31         35.82  \n",
       "3     15.75     11.01      3.28         2.96         33.00  \n",
       "4     11.27      8.89     10.22         1.00         31.37  "
      ]
     },
     "execution_count": 2,
     "metadata": {},
     "output_type": "execute_result"
    }
   ],
   "source": [
    "videoGamesSales.head()"
   ]
  },
  {
   "cell_type": "markdown",
   "metadata": {},
   "source": [
    "### Expectations\n",
    "\n",
    "ik verwacht dat de sales niet echt met elkaar te maken zullen hebben. En dus niet een linear verband zullen tonen.\n",
    "Dat kan te maken hebben omdat, landen van groote verschillen en dat er dus veel meer wordt verkocht in amrika vergeleken met japan."
   ]
  },
  {
   "cell_type": "markdown",
   "metadata": {},
   "source": [
    "# Bivariate analysis"
   ]
  },
  {
   "cell_type": "code",
   "execution_count": 3,
   "metadata": {},
   "outputs": [
    {
     "data": {
      "text/html": [
       "<style  type=\"text/css\" >\n",
       "#T_1366791b_6a10_11eb_9fe6_4ccc6a932c43row0_col0,#T_1366791b_6a10_11eb_9fe6_4ccc6a932c43row1_col1,#T_1366791b_6a10_11eb_9fe6_4ccc6a932c43row2_col2,#T_1366791b_6a10_11eb_9fe6_4ccc6a932c43row3_col3,#T_1366791b_6a10_11eb_9fe6_4ccc6a932c43row4_col4,#T_1366791b_6a10_11eb_9fe6_4ccc6a932c43row5_col5,#T_1366791b_6a10_11eb_9fe6_4ccc6a932c43row6_col6{\n",
       "            background-color:  #b40426;\n",
       "            color:  #f1f1f1;\n",
       "        }#T_1366791b_6a10_11eb_9fe6_4ccc6a932c43row0_col1,#T_1366791b_6a10_11eb_9fe6_4ccc6a932c43row1_col0{\n",
       "            background-color:  #c7d7f0;\n",
       "            color:  #000000;\n",
       "        }#T_1366791b_6a10_11eb_9fe6_4ccc6a932c43row0_col2,#T_1366791b_6a10_11eb_9fe6_4ccc6a932c43row2_col0{\n",
       "            background-color:  #3f53c6;\n",
       "            color:  #f1f1f1;\n",
       "        }#T_1366791b_6a10_11eb_9fe6_4ccc6a932c43row0_col3,#T_1366791b_6a10_11eb_9fe6_4ccc6a932c43row3_col0{\n",
       "            background-color:  #445acc;\n",
       "            color:  #f1f1f1;\n",
       "        }#T_1366791b_6a10_11eb_9fe6_4ccc6a932c43row0_col4,#T_1366791b_6a10_11eb_9fe6_4ccc6a932c43row4_col0{\n",
       "            background-color:  #5d7ce6;\n",
       "            color:  #000000;\n",
       "        }#T_1366791b_6a10_11eb_9fe6_4ccc6a932c43row0_col5,#T_1366791b_6a10_11eb_9fe6_4ccc6a932c43row5_col0{\n",
       "            background-color:  #4e68d8;\n",
       "            color:  #000000;\n",
       "        }#T_1366791b_6a10_11eb_9fe6_4ccc6a932c43row0_col6,#T_1366791b_6a10_11eb_9fe6_4ccc6a932c43row6_col0{\n",
       "            background-color:  #3b4cc0;\n",
       "            color:  #f1f1f1;\n",
       "        }#T_1366791b_6a10_11eb_9fe6_4ccc6a932c43row1_col2,#T_1366791b_6a10_11eb_9fe6_4ccc6a932c43row2_col1{\n",
       "            background-color:  #88abfd;\n",
       "            color:  #000000;\n",
       "        }#T_1366791b_6a10_11eb_9fe6_4ccc6a932c43row1_col3,#T_1366791b_6a10_11eb_9fe6_4ccc6a932c43row3_col1{\n",
       "            background-color:  #9fbfff;\n",
       "            color:  #000000;\n",
       "        }#T_1366791b_6a10_11eb_9fe6_4ccc6a932c43row1_col4,#T_1366791b_6a10_11eb_9fe6_4ccc6a932c43row4_col1{\n",
       "            background-color:  #7597f6;\n",
       "            color:  #000000;\n",
       "        }#T_1366791b_6a10_11eb_9fe6_4ccc6a932c43row1_col5,#T_1366791b_6a10_11eb_9fe6_4ccc6a932c43row5_col1{\n",
       "            background-color:  #a9c6fd;\n",
       "            color:  #000000;\n",
       "        }#T_1366791b_6a10_11eb_9fe6_4ccc6a932c43row1_col6,#T_1366791b_6a10_11eb_9fe6_4ccc6a932c43row6_col1{\n",
       "            background-color:  #8caffe;\n",
       "            color:  #000000;\n",
       "        }#T_1366791b_6a10_11eb_9fe6_4ccc6a932c43row2_col3,#T_1366791b_6a10_11eb_9fe6_4ccc6a932c43row3_col2{\n",
       "            background-color:  #e67259;\n",
       "            color:  #000000;\n",
       "        }#T_1366791b_6a10_11eb_9fe6_4ccc6a932c43row2_col4,#T_1366791b_6a10_11eb_9fe6_4ccc6a932c43row4_col2{\n",
       "            background-color:  #f3c7b1;\n",
       "            color:  #000000;\n",
       "        }#T_1366791b_6a10_11eb_9fe6_4ccc6a932c43row2_col5,#T_1366791b_6a10_11eb_9fe6_4ccc6a932c43row5_col2{\n",
       "            background-color:  #f59c7d;\n",
       "            color:  #000000;\n",
       "        }#T_1366791b_6a10_11eb_9fe6_4ccc6a932c43row2_col6,#T_1366791b_6a10_11eb_9fe6_4ccc6a932c43row6_col2{\n",
       "            background-color:  #c32e31;\n",
       "            color:  #f1f1f1;\n",
       "        }#T_1366791b_6a10_11eb_9fe6_4ccc6a932c43row3_col4,#T_1366791b_6a10_11eb_9fe6_4ccc6a932c43row4_col3{\n",
       "            background-color:  #f2cab5;\n",
       "            color:  #000000;\n",
       "        }#T_1366791b_6a10_11eb_9fe6_4ccc6a932c43row3_col5,#T_1366791b_6a10_11eb_9fe6_4ccc6a932c43row5_col3{\n",
       "            background-color:  #ec8165;\n",
       "            color:  #000000;\n",
       "        }#T_1366791b_6a10_11eb_9fe6_4ccc6a932c43row3_col6,#T_1366791b_6a10_11eb_9fe6_4ccc6a932c43row6_col3{\n",
       "            background-color:  #cc403a;\n",
       "            color:  #f1f1f1;\n",
       "        }#T_1366791b_6a10_11eb_9fe6_4ccc6a932c43row4_col5,#T_1366791b_6a10_11eb_9fe6_4ccc6a932c43row5_col4{\n",
       "            background-color:  #dddcdc;\n",
       "            color:  #000000;\n",
       "        }#T_1366791b_6a10_11eb_9fe6_4ccc6a932c43row4_col6,#T_1366791b_6a10_11eb_9fe6_4ccc6a932c43row6_col4{\n",
       "            background-color:  #f6a283;\n",
       "            color:  #000000;\n",
       "        }#T_1366791b_6a10_11eb_9fe6_4ccc6a932c43row5_col6,#T_1366791b_6a10_11eb_9fe6_4ccc6a932c43row6_col5{\n",
       "            background-color:  #e97a5f;\n",
       "            color:  #000000;\n",
       "        }</style><table id=\"T_1366791b_6a10_11eb_9fe6_4ccc6a932c43\" ><thead>    <tr>        <th class=\"blank level0\" ></th>        <th class=\"col_heading level0 col0\" >Rank</th>        <th class=\"col_heading level0 col1\" >Year</th>        <th class=\"col_heading level0 col2\" >NA_Sales</th>        <th class=\"col_heading level0 col3\" >EU_Sales</th>        <th class=\"col_heading level0 col4\" >JP_Sales</th>        <th class=\"col_heading level0 col5\" >Other_Sales</th>        <th class=\"col_heading level0 col6\" >Global_Sales</th>    </tr></thead><tbody>\n",
       "                <tr>\n",
       "                        <th id=\"T_1366791b_6a10_11eb_9fe6_4ccc6a932c43level0_row0\" class=\"row_heading level0 row0\" >Rank</th>\n",
       "                        <td id=\"T_1366791b_6a10_11eb_9fe6_4ccc6a932c43row0_col0\" class=\"data row0 col0\" >1.00</td>\n",
       "                        <td id=\"T_1366791b_6a10_11eb_9fe6_4ccc6a932c43row0_col1\" class=\"data row0 col1\" >0.18</td>\n",
       "                        <td id=\"T_1366791b_6a10_11eb_9fe6_4ccc6a932c43row0_col2\" class=\"data row0 col2\" >-0.40</td>\n",
       "                        <td id=\"T_1366791b_6a10_11eb_9fe6_4ccc6a932c43row0_col3\" class=\"data row0 col3\" >-0.38</td>\n",
       "                        <td id=\"T_1366791b_6a10_11eb_9fe6_4ccc6a932c43row0_col4\" class=\"data row0 col4\" >-0.27</td>\n",
       "                        <td id=\"T_1366791b_6a10_11eb_9fe6_4ccc6a932c43row0_col5\" class=\"data row0 col5\" >-0.33</td>\n",
       "                        <td id=\"T_1366791b_6a10_11eb_9fe6_4ccc6a932c43row0_col6\" class=\"data row0 col6\" >-0.43</td>\n",
       "            </tr>\n",
       "            <tr>\n",
       "                        <th id=\"T_1366791b_6a10_11eb_9fe6_4ccc6a932c43level0_row1\" class=\"row_heading level0 row1\" >Year</th>\n",
       "                        <td id=\"T_1366791b_6a10_11eb_9fe6_4ccc6a932c43row1_col0\" class=\"data row1 col0\" >0.18</td>\n",
       "                        <td id=\"T_1366791b_6a10_11eb_9fe6_4ccc6a932c43row1_col1\" class=\"data row1 col1\" >1.00</td>\n",
       "                        <td id=\"T_1366791b_6a10_11eb_9fe6_4ccc6a932c43row1_col2\" class=\"data row1 col2\" >-0.09</td>\n",
       "                        <td id=\"T_1366791b_6a10_11eb_9fe6_4ccc6a932c43row1_col3\" class=\"data row1 col3\" >0.01</td>\n",
       "                        <td id=\"T_1366791b_6a10_11eb_9fe6_4ccc6a932c43row1_col4\" class=\"data row1 col4\" >-0.17</td>\n",
       "                        <td id=\"T_1366791b_6a10_11eb_9fe6_4ccc6a932c43row1_col5\" class=\"data row1 col5\" >0.04</td>\n",
       "                        <td id=\"T_1366791b_6a10_11eb_9fe6_4ccc6a932c43row1_col6\" class=\"data row1 col6\" >-0.07</td>\n",
       "            </tr>\n",
       "            <tr>\n",
       "                        <th id=\"T_1366791b_6a10_11eb_9fe6_4ccc6a932c43level0_row2\" class=\"row_heading level0 row2\" >NA_Sales</th>\n",
       "                        <td id=\"T_1366791b_6a10_11eb_9fe6_4ccc6a932c43row2_col0\" class=\"data row2 col0\" >-0.40</td>\n",
       "                        <td id=\"T_1366791b_6a10_11eb_9fe6_4ccc6a932c43row2_col1\" class=\"data row2 col1\" >-0.09</td>\n",
       "                        <td id=\"T_1366791b_6a10_11eb_9fe6_4ccc6a932c43row2_col2\" class=\"data row2 col2\" >1.00</td>\n",
       "                        <td id=\"T_1366791b_6a10_11eb_9fe6_4ccc6a932c43row2_col3\" class=\"data row2 col3\" >0.77</td>\n",
       "                        <td id=\"T_1366791b_6a10_11eb_9fe6_4ccc6a932c43row2_col4\" class=\"data row2 col4\" >0.45</td>\n",
       "                        <td id=\"T_1366791b_6a10_11eb_9fe6_4ccc6a932c43row2_col5\" class=\"data row2 col5\" >0.63</td>\n",
       "                        <td id=\"T_1366791b_6a10_11eb_9fe6_4ccc6a932c43row2_col6\" class=\"data row2 col6\" >0.94</td>\n",
       "            </tr>\n",
       "            <tr>\n",
       "                        <th id=\"T_1366791b_6a10_11eb_9fe6_4ccc6a932c43level0_row3\" class=\"row_heading level0 row3\" >EU_Sales</th>\n",
       "                        <td id=\"T_1366791b_6a10_11eb_9fe6_4ccc6a932c43row3_col0\" class=\"data row3 col0\" >-0.38</td>\n",
       "                        <td id=\"T_1366791b_6a10_11eb_9fe6_4ccc6a932c43row3_col1\" class=\"data row3 col1\" >0.01</td>\n",
       "                        <td id=\"T_1366791b_6a10_11eb_9fe6_4ccc6a932c43row3_col2\" class=\"data row3 col2\" >0.77</td>\n",
       "                        <td id=\"T_1366791b_6a10_11eb_9fe6_4ccc6a932c43row3_col3\" class=\"data row3 col3\" >1.00</td>\n",
       "                        <td id=\"T_1366791b_6a10_11eb_9fe6_4ccc6a932c43row3_col4\" class=\"data row3 col4\" >0.44</td>\n",
       "                        <td id=\"T_1366791b_6a10_11eb_9fe6_4ccc6a932c43row3_col5\" class=\"data row3 col5\" >0.73</td>\n",
       "                        <td id=\"T_1366791b_6a10_11eb_9fe6_4ccc6a932c43row3_col6\" class=\"data row3 col6\" >0.90</td>\n",
       "            </tr>\n",
       "            <tr>\n",
       "                        <th id=\"T_1366791b_6a10_11eb_9fe6_4ccc6a932c43level0_row4\" class=\"row_heading level0 row4\" >JP_Sales</th>\n",
       "                        <td id=\"T_1366791b_6a10_11eb_9fe6_4ccc6a932c43row4_col0\" class=\"data row4 col0\" >-0.27</td>\n",
       "                        <td id=\"T_1366791b_6a10_11eb_9fe6_4ccc6a932c43row4_col1\" class=\"data row4 col1\" >-0.17</td>\n",
       "                        <td id=\"T_1366791b_6a10_11eb_9fe6_4ccc6a932c43row4_col2\" class=\"data row4 col2\" >0.45</td>\n",
       "                        <td id=\"T_1366791b_6a10_11eb_9fe6_4ccc6a932c43row4_col3\" class=\"data row4 col3\" >0.44</td>\n",
       "                        <td id=\"T_1366791b_6a10_11eb_9fe6_4ccc6a932c43row4_col4\" class=\"data row4 col4\" >1.00</td>\n",
       "                        <td id=\"T_1366791b_6a10_11eb_9fe6_4ccc6a932c43row4_col5\" class=\"data row4 col5\" >0.29</td>\n",
       "                        <td id=\"T_1366791b_6a10_11eb_9fe6_4ccc6a932c43row4_col6\" class=\"data row4 col6\" >0.61</td>\n",
       "            </tr>\n",
       "            <tr>\n",
       "                        <th id=\"T_1366791b_6a10_11eb_9fe6_4ccc6a932c43level0_row5\" class=\"row_heading level0 row5\" >Other_Sales</th>\n",
       "                        <td id=\"T_1366791b_6a10_11eb_9fe6_4ccc6a932c43row5_col0\" class=\"data row5 col0\" >-0.33</td>\n",
       "                        <td id=\"T_1366791b_6a10_11eb_9fe6_4ccc6a932c43row5_col1\" class=\"data row5 col1\" >0.04</td>\n",
       "                        <td id=\"T_1366791b_6a10_11eb_9fe6_4ccc6a932c43row5_col2\" class=\"data row5 col2\" >0.63</td>\n",
       "                        <td id=\"T_1366791b_6a10_11eb_9fe6_4ccc6a932c43row5_col3\" class=\"data row5 col3\" >0.73</td>\n",
       "                        <td id=\"T_1366791b_6a10_11eb_9fe6_4ccc6a932c43row5_col4\" class=\"data row5 col4\" >0.29</td>\n",
       "                        <td id=\"T_1366791b_6a10_11eb_9fe6_4ccc6a932c43row5_col5\" class=\"data row5 col5\" >1.00</td>\n",
       "                        <td id=\"T_1366791b_6a10_11eb_9fe6_4ccc6a932c43row5_col6\" class=\"data row5 col6\" >0.75</td>\n",
       "            </tr>\n",
       "            <tr>\n",
       "                        <th id=\"T_1366791b_6a10_11eb_9fe6_4ccc6a932c43level0_row6\" class=\"row_heading level0 row6\" >Global_Sales</th>\n",
       "                        <td id=\"T_1366791b_6a10_11eb_9fe6_4ccc6a932c43row6_col0\" class=\"data row6 col0\" >-0.43</td>\n",
       "                        <td id=\"T_1366791b_6a10_11eb_9fe6_4ccc6a932c43row6_col1\" class=\"data row6 col1\" >-0.07</td>\n",
       "                        <td id=\"T_1366791b_6a10_11eb_9fe6_4ccc6a932c43row6_col2\" class=\"data row6 col2\" >0.94</td>\n",
       "                        <td id=\"T_1366791b_6a10_11eb_9fe6_4ccc6a932c43row6_col3\" class=\"data row6 col3\" >0.90</td>\n",
       "                        <td id=\"T_1366791b_6a10_11eb_9fe6_4ccc6a932c43row6_col4\" class=\"data row6 col4\" >0.61</td>\n",
       "                        <td id=\"T_1366791b_6a10_11eb_9fe6_4ccc6a932c43row6_col5\" class=\"data row6 col5\" >0.75</td>\n",
       "                        <td id=\"T_1366791b_6a10_11eb_9fe6_4ccc6a932c43row6_col6\" class=\"data row6 col6\" >1.00</td>\n",
       "            </tr>\n",
       "    </tbody></table>"
      ],
      "text/plain": [
       "<pandas.io.formats.style.Styler at 0x1b0de3f3eb0>"
      ]
     },
     "execution_count": 3,
     "metadata": {},
     "output_type": "execute_result"
    }
   ],
   "source": [
    "videoGamesSalesCorrelations = videoGamesSales.corr()\n",
    "videoGamesSalesCorrelations.style.background_gradient(cmap='coolwarm', axis=None).set_precision(2)"
   ]
  },
  {
   "cell_type": "markdown",
   "metadata": {},
   "source": [
    "### Most Positive Correlation"
   ]
  },
  {
   "cell_type": "code",
   "execution_count": 6,
   "metadata": {},
   "outputs": [
    {
     "data": {
      "text/plain": [
       "<AxesSubplot:xlabel='Global_Sales', ylabel='NA_Sales'>"
      ]
     },
     "execution_count": 6,
     "metadata": {},
     "output_type": "execute_result"
    },
    {
     "data": {
      "image/png": "[encoded data removed]",
      "text/plain": [
       "<Figure size 432x288 with 1 Axes>"
      ]
     },
     "metadata": {
      "needs_background": "light"
     },
     "output_type": "display_data"
    }
   ],
   "source": [
    "videoGamesSales.plot(kind = \"scatter\", x = \"Global_Sales\", y = \"NA_Sales\")"
   ]
  },
  {
   "cell_type": "code",
   "execution_count": 26,
   "metadata": {},
   "outputs": [
    {
     "data": {
      "text/plain": [
       "<AxesSubplot:xlabel='EU_Sales', ylabel='NA_Sales'>"
      ]
     },
     "execution_count": 26,
     "metadata": {},
     "output_type": "execute_result"
    },
    {
     "data": {
      "image/png": "[encoded data removed]",
      "text/plain": [
       "<Figure size 432x288 with 1 Axes>"
      ]
     },
     "metadata": {
      "needs_background": "light"
     },
     "output_type": "display_data"
    }
   ],
   "source": [
    "videoGamesSales.plot(kind = \"scatter\", x = \"EU_Sales\", y = \"NA_Sales\", alpha = 0.1)"
   ]
  },
  {
   "cell_type": "markdown",
   "metadata": {},
   "source": [
    "### Most Negative Correlation"
   ]
  },
  {
   "cell_type": "code",
   "execution_count": 12,
   "metadata": {},
   "outputs": [
    {
     "data": {
      "text/plain": [
       "<AxesSubplot:xlabel='Year', ylabel='JP_Sales'>"
      ]
     },
     "execution_count": 12,
     "metadata": {},
     "output_type": "execute_result"
    },
    {
     "data": {
      "image/png": "[encoded data removed]",
      "text/plain": [
       "<Figure size 432x288 with 1 Axes>"
      ]
     },
     "metadata": {
      "needs_background": "light"
     },
     "output_type": "display_data"
    }
   ],
   "source": [
    "videoGamesSales.plot(kind = \"scatter\", x = \"Year\", y = \"JP_Sales\")"
   ]
  },
  {
   "cell_type": "markdown",
   "metadata": {},
   "source": [
    "### Weakest Correlation\n"
   ]
  },
  {
   "cell_type": "code",
   "execution_count": 14,
   "metadata": {},
   "outputs": [
    {
     "data": {
      "text/plain": [
       "<AxesSubplot:xlabel='JP_Sales', ylabel='Other_Sales'>"
      ]
     },
     "execution_count": 14,
     "metadata": {},
     "output_type": "execute_result"
    },
    {
     "data": {
      "image/png": "[encoded data removed]",
      "text/plain": [
       "<Figure size 432x288 with 1 Axes>"
      ]
     },
     "metadata": {
      "needs_background": "light"
     },
     "output_type": "display_data"
    }
   ],
   "source": [
    "videoGamesSales.plot(kind = \"scatter\", x = \"JP_Sales\", y = \"Other_Sales\")"
   ]
  },
  {
   "cell_type": "markdown",
   "metadata": {},
   "source": [
    "## Resultaat\n",
    "Mijn verwachtingen komen niet overeen. er is een zeer positieve lineare relatie is tussen de landen sales en global sales.\n",
    "De Landen hebben vergeleken met elkaar een redelijke lineare relatie. dat zou kunnen komen doordat een game veel gehyped en overal populair is. overal zou de sales prijs dan hoog kunnen zijn. denk maar aan mario of sonic. "
   ]
  },
  {
   "cell_type": "code",
   "execution_count": null,
   "metadata": {},
   "outputs": [],
   "source": []
  }
 ],
 "metadata": {
  "kernelspec": {
   "display_name": "Python 3",
   "language": "python",
   "name": "python3"
  },
  "language_info": {
   "codemirror_mode": {
    "name": "ipython",
    "version": 3
   },
   "file_extension": ".py",
   "mimetype": "text/x-python",
   "name": "python",
   "nbconvert_exporter": "python",
   "pygments_lexer": "ipython3",
   "version": "3.8.5"
  }
 },
 "nbformat": 4,
 "nbformat_minor": 4
}
