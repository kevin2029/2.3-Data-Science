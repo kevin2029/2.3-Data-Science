{
 "cells": [
  {
   "cell_type": "code",
   "execution_count": 28,
   "metadata": {},
   "outputs": [
    {
     "data": {
      "text/html": [
       "<div>\n",
       "<style scoped>\n",
       "    .dataframe tbody tr th:only-of-type {\n",
       "        vertical-align: middle;\n",
       "    }\n",
       "\n",
       "    .dataframe tbody tr th {\n",
       "        vertical-align: top;\n",
       "    }\n",
       "\n",
       "    .dataframe thead th {\n",
       "        text-align: right;\n",
       "    }\n",
       "</style>\n",
       "<table border=\"1\" class=\"dataframe\">\n",
       "  <thead>\n",
       "    <tr style=\"text-align: right;\">\n",
       "      <th></th>\n",
       "      <th>species</th>\n",
       "      <th>island</th>\n",
       "      <th>bill_length_mm</th>\n",
       "      <th>bill_depth_mm</th>\n",
       "      <th>flipper_length_mm</th>\n",
       "      <th>body_mass_g</th>\n",
       "      <th>sex</th>\n",
       "    </tr>\n",
       "  </thead>\n",
       "  <tbody>\n",
       "    <tr>\n",
       "      <th>0</th>\n",
       "      <td>Adelie</td>\n",
       "      <td>Torgersen</td>\n",
       "      <td>39.1</td>\n",
       "      <td>18.7</td>\n",
       "      <td>181.0</td>\n",
       "      <td>3750.0</td>\n",
       "      <td>Male</td>\n",
       "    </tr>\n",
       "    <tr>\n",
       "      <th>1</th>\n",
       "      <td>Adelie</td>\n",
       "      <td>Torgersen</td>\n",
       "      <td>39.5</td>\n",
       "      <td>17.4</td>\n",
       "      <td>186.0</td>\n",
       "      <td>3800.0</td>\n",
       "      <td>Female</td>\n",
       "    </tr>\n",
       "    <tr>\n",
       "      <th>2</th>\n",
       "      <td>Adelie</td>\n",
       "      <td>Torgersen</td>\n",
       "      <td>40.3</td>\n",
       "      <td>18.0</td>\n",
       "      <td>195.0</td>\n",
       "      <td>3250.0</td>\n",
       "      <td>Female</td>\n",
       "    </tr>\n",
       "    <tr>\n",
       "      <th>3</th>\n",
       "      <td>Adelie</td>\n",
       "      <td>Torgersen</td>\n",
       "      <td>NaN</td>\n",
       "      <td>NaN</td>\n",
       "      <td>NaN</td>\n",
       "      <td>NaN</td>\n",
       "      <td>NaN</td>\n",
       "    </tr>\n",
       "    <tr>\n",
       "      <th>4</th>\n",
       "      <td>Adelie</td>\n",
       "      <td>Torgersen</td>\n",
       "      <td>36.7</td>\n",
       "      <td>19.3</td>\n",
       "      <td>193.0</td>\n",
       "      <td>3450.0</td>\n",
       "      <td>Female</td>\n",
       "    </tr>\n",
       "  </tbody>\n",
       "</table>\n",
       "</div>"
      ],
      "text/plain": [
       "  species     island  bill_length_mm  bill_depth_mm  flipper_length_mm  \\\n",
       "0  Adelie  Torgersen            39.1           18.7              181.0   \n",
       "1  Adelie  Torgersen            39.5           17.4              186.0   \n",
       "2  Adelie  Torgersen            40.3           18.0              195.0   \n",
       "3  Adelie  Torgersen             NaN            NaN                NaN   \n",
       "4  Adelie  Torgersen            36.7           19.3              193.0   \n",
       "\n",
       "   body_mass_g     sex  \n",
       "0       3750.0    Male  \n",
       "1       3800.0  Female  \n",
       "2       3250.0  Female  \n",
       "3          NaN     NaN  \n",
       "4       3450.0  Female  "
      ]
     },
     "execution_count": 28,
     "metadata": {},
     "output_type": "execute_result"
    }
   ],
   "source": [
    "import pandas as pd\n",
    "import seaborn as sns\n",
    "from sklearn.tree import DecisionTreeRegressor\n",
    "from sklearn.model_selection import train_test_split\n",
    "penguins = sns.load_dataset(\"penguins\")\n",
    "penguins.head()"
   ]
  },
  {
   "cell_type": "code",
   "execution_count": 2,
   "metadata": {},
   "outputs": [],
   "source": [
    "from sklearn import tree\n",
    "import graphviz\n",
    "\n",
    "def plot_tree_regression(model, features):\n",
    "    # Generate plot data\n",
    "    dot_data = tree.export_graphviz(model, out_file=None, \n",
    "                          feature_names=features,  \n",
    "                          filled=True, rounded=True,  \n",
    "                          special_characters=True)  \n",
    "\n",
    "    # Turn into graph using graphviz\n",
    "    graph = graphviz.Source(dot_data)  \n",
    "\n",
    "    # Write out a pdf\n",
    "    graph.render(\"decision_tree\")\n",
    "\n",
    "    # Display in the notebook\n",
    "    return graph "
   ]
  },
  {
   "cell_type": "code",
   "execution_count": 3,
   "metadata": {},
   "outputs": [],
   "source": [
    "def calculate_rmse(predictions, actuals):\n",
    "    if(len(predictions) != len(actuals)):\n",
    "        raise Exception(\"The amount of predictions did not equal the amount of actuals\")\n",
    "    \n",
    "    return (((predictions - actuals) ** 2).sum() / len(actuals)) ** (1/2)"
   ]
  },
  {
   "cell_type": "code",
   "execution_count": 16,
   "metadata": {},
   "outputs": [
    {
     "name": "stdout",
     "output_type": "stream",
     "text": [
      "240\n",
      "240\n"
     ]
    }
   ],
   "source": [
    "before = len(penguins[\"body_mass_g\"])\n",
    "after = len(penguins[\"body_mass_g\"].fillna(penguins.mean()))\n",
    "\n",
    "b = penguins_train[features].fillna(penguins_train.mean())\n",
    "a = penguins_train['body_mass_g'].fillna(penguins_train.mean())\n",
    "\n",
    "print(len(b))\n",
    "print(len(b))"
   ]
  },
  {
   "cell_type": "markdown",
   "metadata": {},
   "source": [
    "### Test/train split"
   ]
  },
  {
   "cell_type": "code",
   "execution_count": 9,
   "metadata": {},
   "outputs": [
    {
     "name": "stdout",
     "output_type": "stream",
     "text": [
      "(240, 7) (104, 7)\n"
     ]
    }
   ],
   "source": [
    "penguins_train, penguins_test = train_test_split(penguins, test_size=0.3, stratify=penguins['species'], random_state=42)\n",
    "print(penguins_train.shape, penguins_test.shape)"
   ]
  },
  {
   "cell_type": "markdown",
   "metadata": {},
   "source": [
    "# Regression"
   ]
  },
  {
   "cell_type": "code",
   "execution_count": 41,
   "metadata": {},
   "outputs": [
    {
     "data": {
      "text/plain": [
       "DecisionTreeRegressor(max_depth=3)"
      ]
     },
     "execution_count": 41,
     "metadata": {},
     "output_type": "execute_result"
    }
   ],
   "source": [
    "features= ['bill_length_mm','flipper_length_mm','bill_depth_mm']\n",
    "dt_regression = DecisionTreeRegressor(max_depth = 3)\n",
    "dt_regression.fit(penguins_train[features].dropna(), penguins_train['body_mass_g'].dropna())"
   ]
  },
  {
   "cell_type": "code",
   "execution_count": 42,
   "metadata": {},
   "outputs": [
    {
     "data": {
      "image/svg+xml": [
       "<?xml version=\"1.0\" encoding=\"UTF-8\" standalone=\"no\"?>\r\n",
       "<!DOCTYPE svg PUBLIC \"-//W3C//DTD SVG 1.1//EN\"\r\n",
       " \"http://www.w3.org/Graphics/SVG/1.1/DTD/svg11.dtd\">\r\n",
       "<!-- Generated by graphviz version 2.38.0 (20140413.2041)\r\n",
       " -->\r\n",
       "<!-- Title: Tree Pages: 1 -->\r\n",
       "<svg width=\"1214pt\" height=\"373pt\"\r\n",
       " viewBox=\"0.00 0.00 1214.00 373.00\" xmlns=\"http://www.w3.org/2000/svg\" xmlns:xlink=\"http://www.w3.org/1999/xlink\">\r\n",
       "<g id=\"graph0\" class=\"graph\" transform=\"scale(1 1) rotate(0) translate(4 369)\">\r\n",
       "<title>Tree</title>\r\n",
       "<polygon fill=\"white\" stroke=\"none\" points=\"-4,4 -4,-369 1210,-369 1210,4 -4,4\"/>\r\n",
       "<!-- 0 -->\r\n",
       "<g id=\"node1\" class=\"node\"><title>0</title>\r\n",
       "<path fill=\"#f5cfb4\" stroke=\"black\" d=\"M688.5,-365C688.5,-365 525.5,-365 525.5,-365 519.5,-365 513.5,-359 513.5,-353 513.5,-353 513.5,-309 513.5,-309 513.5,-303 519.5,-297 525.5,-297 525.5,-297 688.5,-297 688.5,-297 694.5,-297 700.5,-303 700.5,-309 700.5,-309 700.5,-353 700.5,-353 700.5,-359 694.5,-365 688.5,-365\"/>\r\n",
       "<text text-anchor=\"start\" x=\"521.5\" y=\"-349.8\" font-family=\"Helvetica,sans-Serif\" font-size=\"14.00\">flipper_length_mm ≤ 206.5</text>\r\n",
       "<text text-anchor=\"start\" x=\"546\" y=\"-334.8\" font-family=\"Helvetica,sans-Serif\" font-size=\"14.00\">mse = 639942.928</text>\r\n",
       "<text text-anchor=\"start\" x=\"559.5\" y=\"-319.8\" font-family=\"Helvetica,sans-Serif\" font-size=\"14.00\">samples = 239</text>\r\n",
       "<text text-anchor=\"start\" x=\"551.5\" y=\"-304.8\" font-family=\"Helvetica,sans-Serif\" font-size=\"14.00\">value = 4233.682</text>\r\n",
       "</g>\r\n",
       "<!-- 1 -->\r\n",
       "<g id=\"node2\" class=\"node\"><title>1</title>\r\n",
       "<path fill=\"#fbebe0\" stroke=\"black\" d=\"M559,-261C559,-261 421,-261 421,-261 415,-261 409,-255 409,-249 409,-249 409,-205 409,-205 409,-199 415,-193 421,-193 421,-193 559,-193 559,-193 565,-193 571,-199 571,-205 571,-205 571,-249 571,-249 571,-255 565,-261 559,-261\"/>\r\n",
       "<text text-anchor=\"start\" x=\"417\" y=\"-245.8\" font-family=\"Helvetica,sans-Serif\" font-size=\"14.00\">bill_depth_mm ≤ 18.05</text>\r\n",
       "<text text-anchor=\"start\" x=\"429\" y=\"-230.8\" font-family=\"Helvetica,sans-Serif\" font-size=\"14.00\">mse = 208704.591</text>\r\n",
       "<text text-anchor=\"start\" x=\"442.5\" y=\"-215.8\" font-family=\"Helvetica,sans-Serif\" font-size=\"14.00\">samples = 147</text>\r\n",
       "<text text-anchor=\"start\" x=\"434.5\" y=\"-200.8\" font-family=\"Helvetica,sans-Serif\" font-size=\"14.00\">value = 3735.034</text>\r\n",
       "</g>\r\n",
       "<!-- 0&#45;&gt;1 -->\r\n",
       "<g id=\"edge1\" class=\"edge\"><title>0&#45;&gt;1</title>\r\n",
       "<path fill=\"none\" stroke=\"black\" d=\"M569.013,-296.884C558.49,-287.709 546.952,-277.65 536.023,-268.123\"/>\r\n",
       "<polygon fill=\"black\" stroke=\"black\" points=\"538.034,-265.233 528.196,-261.299 533.434,-270.509 538.034,-265.233\"/>\r\n",
       "<text text-anchor=\"middle\" x=\"529.905\" y=\"-282.541\" font-family=\"Helvetica,sans-Serif\" font-size=\"14.00\">True</text>\r\n",
       "</g>\r\n",
       "<!-- 8 -->\r\n",
       "<g id=\"node9\" class=\"node\"><title>8</title>\r\n",
       "<path fill=\"#eca26c\" stroke=\"black\" d=\"M805.5,-261C805.5,-261 642.5,-261 642.5,-261 636.5,-261 630.5,-255 630.5,-249 630.5,-249 630.5,-205 630.5,-205 630.5,-199 636.5,-193 642.5,-193 642.5,-193 805.5,-193 805.5,-193 811.5,-193 817.5,-199 817.5,-205 817.5,-205 817.5,-249 817.5,-249 817.5,-255 811.5,-261 805.5,-261\"/>\r\n",
       "<text text-anchor=\"start\" x=\"638.5\" y=\"-245.8\" font-family=\"Helvetica,sans-Serif\" font-size=\"14.00\">flipper_length_mm ≤ 217.5</text>\r\n",
       "<text text-anchor=\"start\" x=\"663\" y=\"-230.8\" font-family=\"Helvetica,sans-Serif\" font-size=\"14.00\">mse = 296872.637</text>\r\n",
       "<text text-anchor=\"start\" x=\"680.5\" y=\"-215.8\" font-family=\"Helvetica,sans-Serif\" font-size=\"14.00\">samples = 92</text>\r\n",
       "<text text-anchor=\"start\" x=\"668.5\" y=\"-200.8\" font-family=\"Helvetica,sans-Serif\" font-size=\"14.00\">value = 5030.435</text>\r\n",
       "</g>\r\n",
       "<!-- 0&#45;&gt;8 -->\r\n",
       "<g id=\"edge8\" class=\"edge\"><title>0&#45;&gt;8</title>\r\n",
       "<path fill=\"none\" stroke=\"black\" d=\"M644.987,-296.884C655.51,-287.709 667.048,-277.65 677.977,-268.123\"/>\r\n",
       "<polygon fill=\"black\" stroke=\"black\" points=\"680.566,-270.509 685.804,-261.299 675.966,-265.233 680.566,-270.509\"/>\r\n",
       "<text text-anchor=\"middle\" x=\"684.095\" y=\"-282.541\" font-family=\"Helvetica,sans-Serif\" font-size=\"14.00\">False</text>\r\n",
       "</g>\r\n",
       "<!-- 2 -->\r\n",
       "<g id=\"node3\" class=\"node\"><title>2</title>\r\n",
       "<path fill=\"#fefcfa\" stroke=\"black\" d=\"M298.5,-157C298.5,-157 135.5,-157 135.5,-157 129.5,-157 123.5,-151 123.5,-145 123.5,-145 123.5,-101 123.5,-101 123.5,-95 129.5,-89 135.5,-89 135.5,-89 298.5,-89 298.5,-89 304.5,-89 310.5,-95 310.5,-101 310.5,-101 310.5,-145 310.5,-145 310.5,-151 304.5,-157 298.5,-157\"/>\r\n",
       "<text text-anchor=\"start\" x=\"131.5\" y=\"-141.8\" font-family=\"Helvetica,sans-Serif\" font-size=\"14.00\">flipper_length_mm ≤ 195.5</text>\r\n",
       "<text text-anchor=\"start\" x=\"156\" y=\"-126.8\" font-family=\"Helvetica,sans-Serif\" font-size=\"14.00\">mse = 140258.541</text>\r\n",
       "<text text-anchor=\"start\" x=\"173.5\" y=\"-111.8\" font-family=\"Helvetica,sans-Serif\" font-size=\"14.00\">samples = 57</text>\r\n",
       "<text text-anchor=\"start\" x=\"161.5\" y=\"-96.8\" font-family=\"Helvetica,sans-Serif\" font-size=\"14.00\">value = 3446.053</text>\r\n",
       "</g>\r\n",
       "<!-- 1&#45;&gt;2 -->\r\n",
       "<g id=\"edge2\" class=\"edge\"><title>1&#45;&gt;2</title>\r\n",
       "<path fill=\"none\" stroke=\"black\" d=\"M408.83,-195.673C379.345,-184.656 345.714,-172.091 314.934,-160.591\"/>\r\n",
       "<polygon fill=\"black\" stroke=\"black\" points=\"316.073,-157.28 305.481,-157.059 313.623,-163.837 316.073,-157.28\"/>\r\n",
       "</g>\r\n",
       "<!-- 5 -->\r\n",
       "<g id=\"node6\" class=\"node\"><title>5</title>\r\n",
       "<path fill=\"#f9e1d0\" stroke=\"black\" d=\"M560,-157C560,-157 420,-157 420,-157 414,-157 408,-151 408,-145 408,-145 408,-101 408,-101 408,-95 414,-89 420,-89 420,-89 560,-89 560,-89 566,-89 572,-95 572,-101 572,-101 572,-145 572,-145 572,-151 566,-157 560,-157\"/>\r\n",
       "<text text-anchor=\"start\" x=\"416\" y=\"-141.8\" font-family=\"Helvetica,sans-Serif\" font-size=\"14.00\">bill_length_mm ≤ 39.15</text>\r\n",
       "<text text-anchor=\"start\" x=\"429\" y=\"-126.8\" font-family=\"Helvetica,sans-Serif\" font-size=\"14.00\">mse = 165667.052</text>\r\n",
       "<text text-anchor=\"start\" x=\"446.5\" y=\"-111.8\" font-family=\"Helvetica,sans-Serif\" font-size=\"14.00\">samples = 90</text>\r\n",
       "<text text-anchor=\"start\" x=\"434.5\" y=\"-96.8\" font-family=\"Helvetica,sans-Serif\" font-size=\"14.00\">value = 3918.056</text>\r\n",
       "</g>\r\n",
       "<!-- 1&#45;&gt;5 -->\r\n",
       "<g id=\"edge5\" class=\"edge\"><title>1&#45;&gt;5</title>\r\n",
       "<path fill=\"none\" stroke=\"black\" d=\"M490,-192.884C490,-184.778 490,-175.982 490,-167.472\"/>\r\n",
       "<polygon fill=\"black\" stroke=\"black\" points=\"493.5,-167.299 490,-157.299 486.5,-167.299 493.5,-167.299\"/>\r\n",
       "</g>\r\n",
       "<!-- 3 -->\r\n",
       "<g id=\"node4\" class=\"node\"><title>3</title>\r\n",
       "<path fill=\"#ffffff\" stroke=\"black\" d=\"M118,-53C118,-53 12,-53 12,-53 6,-53 0,-47 0,-41 0,-41 0,-12 0,-12 0,-6 6,-0 12,-0 12,-0 118,-0 118,-0 124,-0 130,-6 130,-12 130,-12 130,-41 130,-41 130,-47 124,-53 118,-53\"/>\r\n",
       "<text text-anchor=\"start\" x=\"8\" y=\"-37.8\" font-family=\"Helvetica,sans-Serif\" font-size=\"14.00\">mse = 87961.463</text>\r\n",
       "<text text-anchor=\"start\" x=\"21.5\" y=\"-22.8\" font-family=\"Helvetica,sans-Serif\" font-size=\"14.00\">samples = 53</text>\r\n",
       "<text text-anchor=\"start\" x=\"9.5\" y=\"-7.8\" font-family=\"Helvetica,sans-Serif\" font-size=\"14.00\">value = 3388.679</text>\r\n",
       "</g>\r\n",
       "<!-- 2&#45;&gt;3 -->\r\n",
       "<g id=\"edge3\" class=\"edge\"><title>2&#45;&gt;3</title>\r\n",
       "<path fill=\"none\" stroke=\"black\" d=\"M163.838,-88.9485C147.946,-79.0686 130.586,-68.2758 114.911,-58.5305\"/>\r\n",
       "<polygon fill=\"black\" stroke=\"black\" points=\"116.737,-55.5443 106.397,-53.2367 113.041,-61.489 116.737,-55.5443\"/>\r\n",
       "</g>\r\n",
       "<!-- 4 -->\r\n",
       "<g id=\"node5\" class=\"node\"><title>4</title>\r\n",
       "<path fill=\"#f5d1b6\" stroke=\"black\" d=\"M274,-53C274,-53 160,-53 160,-53 154,-53 148,-47 148,-41 148,-41 148,-12 148,-12 148,-6 154,-0 160,-0 160,-0 274,-0 274,-0 280,-0 286,-6 286,-12 286,-12 286,-41 286,-41 286,-47 280,-53 274,-53\"/>\r\n",
       "<text text-anchor=\"start\" x=\"156\" y=\"-37.8\" font-family=\"Helvetica,sans-Serif\" font-size=\"14.00\">mse = 211679.688</text>\r\n",
       "<text text-anchor=\"start\" x=\"177.5\" y=\"-22.8\" font-family=\"Helvetica,sans-Serif\" font-size=\"14.00\">samples = 4</text>\r\n",
       "<text text-anchor=\"start\" x=\"165.5\" y=\"-7.8\" font-family=\"Helvetica,sans-Serif\" font-size=\"14.00\">value = 4206.25</text>\r\n",
       "</g>\r\n",
       "<!-- 2&#45;&gt;4 -->\r\n",
       "<g id=\"edge4\" class=\"edge\"><title>2&#45;&gt;4</title>\r\n",
       "<path fill=\"none\" stroke=\"black\" d=\"M217,-88.9485C217,-80.7153 217,-71.848 217,-63.4814\"/>\r\n",
       "<polygon fill=\"black\" stroke=\"black\" points=\"220.5,-63.2367 217,-53.2367 213.5,-63.2367 220.5,-63.2367\"/>\r\n",
       "</g>\r\n",
       "<!-- 6 -->\r\n",
       "<g id=\"node7\" class=\"node\"><title>6</title>\r\n",
       "<path fill=\"#fcf0e8\" stroke=\"black\" d=\"M430,-53C430,-53 316,-53 316,-53 310,-53 304,-47 304,-41 304,-41 304,-12 304,-12 304,-6 310,-0 316,-0 316,-0 430,-0 430,-0 436,-0 442,-6 442,-12 442,-12 442,-41 442,-41 442,-47 436,-53 430,-53\"/>\r\n",
       "<text text-anchor=\"start\" x=\"312\" y=\"-37.8\" font-family=\"Helvetica,sans-Serif\" font-size=\"14.00\">mse = 123606.694</text>\r\n",
       "<text text-anchor=\"start\" x=\"329.5\" y=\"-22.8\" font-family=\"Helvetica,sans-Serif\" font-size=\"14.00\">samples = 26</text>\r\n",
       "<text text-anchor=\"start\" x=\"317.5\" y=\"-7.8\" font-family=\"Helvetica,sans-Serif\" font-size=\"14.00\">value = 3645.192</text>\r\n",
       "</g>\r\n",
       "<!-- 5&#45;&gt;6 -->\r\n",
       "<g id=\"edge6\" class=\"edge\"><title>5&#45;&gt;6</title>\r\n",
       "<path fill=\"none\" stroke=\"black\" d=\"M449.079,-88.9485C437.3,-79.4346 424.473,-69.074 412.765,-59.6175\"/>\r\n",
       "<polygon fill=\"black\" stroke=\"black\" points=\"414.843,-56.7973 404.864,-53.2367 410.445,-62.2429 414.843,-56.7973\"/>\r\n",
       "</g>\r\n",
       "<!-- 7 -->\r\n",
       "<g id=\"node8\" class=\"node\"><title>7</title>\r\n",
       "<path fill=\"#f7dbc6\" stroke=\"black\" d=\"M586,-53C586,-53 472,-53 472,-53 466,-53 460,-47 460,-41 460,-41 460,-12 460,-12 460,-6 466,-0 472,-0 472,-0 586,-0 586,-0 592,-0 598,-6 598,-12 598,-12 598,-41 598,-41 598,-47 592,-53 586,-53\"/>\r\n",
       "<text text-anchor=\"start\" x=\"468\" y=\"-37.8\" font-family=\"Helvetica,sans-Serif\" font-size=\"14.00\">mse = 140219.116</text>\r\n",
       "<text text-anchor=\"start\" x=\"485.5\" y=\"-22.8\" font-family=\"Helvetica,sans-Serif\" font-size=\"14.00\">samples = 64</text>\r\n",
       "<text text-anchor=\"start\" x=\"473.5\" y=\"-7.8\" font-family=\"Helvetica,sans-Serif\" font-size=\"14.00\">value = 4028.906</text>\r\n",
       "</g>\r\n",
       "<!-- 5&#45;&gt;7 -->\r\n",
       "<g id=\"edge7\" class=\"edge\"><title>5&#45;&gt;7</title>\r\n",
       "<path fill=\"none\" stroke=\"black\" d=\"M503.64,-88.9485C507.151,-80.4408 510.942,-71.2562 514.495,-62.6464\"/>\r\n",
       "<polygon fill=\"black\" stroke=\"black\" points=\"517.799,-63.8157 518.379,-53.2367 511.328,-61.1452 517.799,-63.8157\"/>\r\n",
       "</g>\r\n",
       "<!-- 9 -->\r\n",
       "<g id=\"node10\" class=\"node\"><title>9</title>\r\n",
       "<path fill=\"#efb185\" stroke=\"black\" d=\"M805.5,-157C805.5,-157 642.5,-157 642.5,-157 636.5,-157 630.5,-151 630.5,-145 630.5,-145 630.5,-101 630.5,-101 630.5,-95 636.5,-89 642.5,-89 642.5,-89 805.5,-89 805.5,-89 811.5,-89 817.5,-95 817.5,-101 817.5,-101 817.5,-145 817.5,-145 817.5,-151 811.5,-157 805.5,-157\"/>\r\n",
       "<text text-anchor=\"start\" x=\"638.5\" y=\"-141.8\" font-family=\"Helvetica,sans-Serif\" font-size=\"14.00\">flipper_length_mm ≤ 211.5</text>\r\n",
       "<text text-anchor=\"start\" x=\"663\" y=\"-126.8\" font-family=\"Helvetica,sans-Serif\" font-size=\"14.00\">mse = 204010.682</text>\r\n",
       "<text text-anchor=\"start\" x=\"680.5\" y=\"-111.8\" font-family=\"Helvetica,sans-Serif\" font-size=\"14.00\">samples = 56</text>\r\n",
       "<text text-anchor=\"start\" x=\"668.5\" y=\"-96.8\" font-family=\"Helvetica,sans-Serif\" font-size=\"14.00\">value = 4752.679</text>\r\n",
       "</g>\r\n",
       "<!-- 8&#45;&gt;9 -->\r\n",
       "<g id=\"edge9\" class=\"edge\"><title>8&#45;&gt;9</title>\r\n",
       "<path fill=\"none\" stroke=\"black\" d=\"M724,-192.884C724,-184.778 724,-175.982 724,-167.472\"/>\r\n",
       "<polygon fill=\"black\" stroke=\"black\" points=\"727.5,-167.299 724,-157.299 720.5,-167.299 727.5,-167.299\"/>\r\n",
       "</g>\r\n",
       "<!-- 12 -->\r\n",
       "<g id=\"node13\" class=\"node\"><title>12</title>\r\n",
       "<path fill=\"#e78946\" stroke=\"black\" d=\"M1063,-157C1063,-157 923,-157 923,-157 917,-157 911,-151 911,-145 911,-145 911,-101 911,-101 911,-95 917,-89 923,-89 923,-89 1063,-89 1063,-89 1069,-89 1075,-95 1075,-101 1075,-101 1075,-145 1075,-145 1075,-151 1069,-157 1063,-157\"/>\r\n",
       "<text text-anchor=\"start\" x=\"919\" y=\"-141.8\" font-family=\"Helvetica,sans-Serif\" font-size=\"14.00\">bill_length_mm ≤ 48.55</text>\r\n",
       "<text text-anchor=\"start\" x=\"932\" y=\"-126.8\" font-family=\"Helvetica,sans-Serif\" font-size=\"14.00\">mse = 134635.417</text>\r\n",
       "<text text-anchor=\"start\" x=\"949.5\" y=\"-111.8\" font-family=\"Helvetica,sans-Serif\" font-size=\"14.00\">samples = 36</text>\r\n",
       "<text text-anchor=\"start\" x=\"946\" y=\"-96.8\" font-family=\"Helvetica,sans-Serif\" font-size=\"14.00\">value = 5462.5</text>\r\n",
       "</g>\r\n",
       "<!-- 8&#45;&gt;12 -->\r\n",
       "<g id=\"edge12\" class=\"edge\"><title>8&#45;&gt;12</title>\r\n",
       "<path fill=\"none\" stroke=\"black\" d=\"M811.337,-192.884C840.005,-182.013 871.947,-169.901 900.954,-158.902\"/>\r\n",
       "<polygon fill=\"black\" stroke=\"black\" points=\"902.56,-162.037 910.669,-155.218 900.078,-155.491 902.56,-162.037\"/>\r\n",
       "</g>\r\n",
       "<!-- 10 -->\r\n",
       "<g id=\"node11\" class=\"node\"><title>10</title>\r\n",
       "<path fill=\"#f2c09c\" stroke=\"black\" d=\"M742,-53C742,-53 628,-53 628,-53 622,-53 616,-47 616,-41 616,-41 616,-12 616,-12 616,-6 622,-0 628,-0 628,-0 742,-0 742,-0 748,-0 754,-6 754,-12 754,-12 754,-41 754,-41 754,-47 748,-53 742,-53\"/>\r\n",
       "<text text-anchor=\"start\" x=\"624\" y=\"-37.8\" font-family=\"Helvetica,sans-Serif\" font-size=\"14.00\">mse = 164907.845</text>\r\n",
       "<text text-anchor=\"start\" x=\"641.5\" y=\"-22.8\" font-family=\"Helvetica,sans-Serif\" font-size=\"14.00\">samples = 23</text>\r\n",
       "<text text-anchor=\"start\" x=\"629.5\" y=\"-7.8\" font-family=\"Helvetica,sans-Serif\" font-size=\"14.00\">value = 4496.739</text>\r\n",
       "</g>\r\n",
       "<!-- 9&#45;&gt;10 -->\r\n",
       "<g id=\"edge10\" class=\"edge\"><title>9&#45;&gt;10</title>\r\n",
       "<path fill=\"none\" stroke=\"black\" d=\"M710.36,-88.9485C706.849,-80.4408 703.058,-71.2562 699.505,-62.6464\"/>\r\n",
       "<polygon fill=\"black\" stroke=\"black\" points=\"702.672,-61.1452 695.621,-53.2367 696.201,-63.8157 702.672,-61.1452\"/>\r\n",
       "</g>\r\n",
       "<!-- 11 -->\r\n",
       "<g id=\"node12\" class=\"node\"><title>11</title>\r\n",
       "<path fill=\"#eda775\" stroke=\"black\" d=\"M898,-53C898,-53 784,-53 784,-53 778,-53 772,-47 772,-41 772,-41 772,-12 772,-12 772,-6 778,-0 784,-0 784,-0 898,-0 898,-0 904,-0 910,-6 910,-12 910,-12 910,-41 910,-41 910,-47 904,-53 898,-53\"/>\r\n",
       "<text text-anchor=\"start\" x=\"780\" y=\"-37.8\" font-family=\"Helvetica,sans-Serif\" font-size=\"14.00\">mse = 153789.027</text>\r\n",
       "<text text-anchor=\"start\" x=\"797.5\" y=\"-22.8\" font-family=\"Helvetica,sans-Serif\" font-size=\"14.00\">samples = 33</text>\r\n",
       "<text text-anchor=\"start\" x=\"785.5\" y=\"-7.8\" font-family=\"Helvetica,sans-Serif\" font-size=\"14.00\">value = 4931.061</text>\r\n",
       "</g>\r\n",
       "<!-- 9&#45;&gt;11 -->\r\n",
       "<g id=\"edge11\" class=\"edge\"><title>9&#45;&gt;11</title>\r\n",
       "<path fill=\"none\" stroke=\"black\" d=\"M764.921,-88.9485C776.7,-79.4346 789.527,-69.074 801.235,-59.6175\"/>\r\n",
       "<polygon fill=\"black\" stroke=\"black\" points=\"803.555,-62.2429 809.136,-53.2367 799.157,-56.7973 803.555,-62.2429\"/>\r\n",
       "</g>\r\n",
       "<!-- 13 -->\r\n",
       "<g id=\"node14\" class=\"node\"><title>13</title>\r\n",
       "<path fill=\"#eca26c\" stroke=\"black\" d=\"M1046,-53C1046,-53 940,-53 940,-53 934,-53 928,-47 928,-41 928,-41 928,-12 928,-12 928,-6 934,-0 940,-0 940,-0 1046,-0 1046,-0 1052,-0 1058,-6 1058,-12 1058,-12 1058,-41 1058,-41 1058,-47 1052,-53 1046,-53\"/>\r\n",
       "<text text-anchor=\"start\" x=\"936\" y=\"-37.8\" font-family=\"Helvetica,sans-Serif\" font-size=\"14.00\">mse = 58333.333</text>\r\n",
       "<text text-anchor=\"start\" x=\"953.5\" y=\"-22.8\" font-family=\"Helvetica,sans-Serif\" font-size=\"14.00\">samples = 9</text>\r\n",
       "<text text-anchor=\"start\" x=\"937.5\" y=\"-7.8\" font-family=\"Helvetica,sans-Serif\" font-size=\"14.00\">value = 5033.333</text>\r\n",
       "</g>\r\n",
       "<!-- 12&#45;&gt;13 -->\r\n",
       "<g id=\"edge13\" class=\"edge\"><title>12&#45;&gt;13</title>\r\n",
       "<path fill=\"none\" stroke=\"black\" d=\"M993,-88.9485C993,-80.7153 993,-71.848 993,-63.4814\"/>\r\n",
       "<polygon fill=\"black\" stroke=\"black\" points=\"996.5,-63.2367 993,-53.2367 989.5,-63.2367 996.5,-63.2367\"/>\r\n",
       "</g>\r\n",
       "<!-- 14 -->\r\n",
       "<g id=\"node15\" class=\"node\"><title>14</title>\r\n",
       "<path fill=\"#e58139\" stroke=\"black\" d=\"M1194,-53C1194,-53 1088,-53 1088,-53 1082,-53 1076,-47 1076,-41 1076,-41 1076,-12 1076,-12 1076,-6 1082,-0 1088,-0 1088,-0 1194,-0 1194,-0 1200,-0 1206,-6 1206,-12 1206,-12 1206,-41 1206,-41 1206,-47 1200,-53 1194,-53\"/>\r\n",
       "<text text-anchor=\"start\" x=\"1084\" y=\"-37.8\" font-family=\"Helvetica,sans-Serif\" font-size=\"14.00\">mse = 78209.877</text>\r\n",
       "<text text-anchor=\"start\" x=\"1097.5\" y=\"-22.8\" font-family=\"Helvetica,sans-Serif\" font-size=\"14.00\">samples = 27</text>\r\n",
       "<text text-anchor=\"start\" x=\"1085.5\" y=\"-7.8\" font-family=\"Helvetica,sans-Serif\" font-size=\"14.00\">value = 5605.556</text>\r\n",
       "</g>\r\n",
       "<!-- 12&#45;&gt;14 -->\r\n",
       "<g id=\"edge14\" class=\"edge\"><title>12&#45;&gt;14</title>\r\n",
       "<path fill=\"none\" stroke=\"black\" d=\"M1044.76,-88.9485C1060.09,-79.1601 1076.83,-68.4756 1091.98,-58.8015\"/>\r\n",
       "<polygon fill=\"black\" stroke=\"black\" points=\"1094.15,-61.5683 1100.69,-53.2367 1090.38,-55.6685 1094.15,-61.5683\"/>\r\n",
       "</g>\r\n",
       "</g>\r\n",
       "</svg>\r\n"
      ],
      "text/plain": [
       "<graphviz.files.Source at 0x24045176be0>"
      ]
     },
     "execution_count": 42,
     "metadata": {},
     "output_type": "execute_result"
    }
   ],
   "source": [
    "plot_tree_regression(dt_regression, features)"
   ]
  },
  {
   "cell_type": "markdown",
   "metadata": {},
   "source": [
    "## Evaluating the model"
   ]
  },
  {
   "cell_type": "code",
   "execution_count": 43,
   "metadata": {},
   "outputs": [
    {
     "name": "stdout",
     "output_type": "stream",
     "text": [
      "RMSE on training set 349.5427901530589\n",
      "RMSE on test set 362.17405566721516\n"
     ]
    }
   ],
   "source": [
    "predictionsOnTrainset = dt_regression.predict(penguins_train[features].dropna())\n",
    "predictionsOnTestset = dt_regression.predict(penguins_test[features].dropna())\n",
    "\n",
    "rmseTrain = calculate_rmse(predictionsOnTrainset, penguins_train.body_mass_g.dropna())\n",
    "rmseTest = calculate_rmse(predictionsOnTestset, penguins_test.body_mass_g.dropna())\n",
    "\n",
    "print(\"RMSE on training set \" + str(rmseTrain))\n",
    "print(\"RMSE on test set \" + str(rmseTest))"
   ]
  },
  {
   "cell_type": "markdown",
   "metadata": {},
   "source": [
    "de resultaten van de test en de train komen redelijk met elkaar overheen en scheelt niet veel. daarom is de dataset redelijk representatief om in deze setting de bodymass g te voorspellen het zit er maar tussen de 350 en 365 g naast wat opzich in mijn mening oke is."
   ]
  },
  {
   "cell_type": "code",
   "execution_count": null,
   "metadata": {},
   "outputs": [],
   "source": []
  },
  {
   "cell_type": "code",
   "execution_count": null,
   "metadata": {},
   "outputs": [],
   "source": []
  }
 ],
 "metadata": {
  "kernelspec": {
   "display_name": "Python 3",
   "language": "python",
   "name": "python3"
  },
  "language_info": {
   "codemirror_mode": {
    "name": "ipython",
    "version": 3
   },
   "file_extension": ".py",
   "mimetype": "text/x-python",
   "name": "python",
   "nbconvert_exporter": "python",
   "pygments_lexer": "ipython3",
   "version": "3.8.5"
  }
 },
 "nbformat": 4,
 "nbformat_minor": 4
}
