{
 "cells": [
  {
   "cell_type": "code",
   "execution_count": 1,
   "metadata": {},
   "outputs": [],
   "source": [
    "import pandas as pd\n",
    "import seaborn as sns\n",
    "penguins = sns.load_dataset(\"penguins\")\n",
    "from sklearn.model_selection import train_test_split\n",
    "from sklearn.tree import DecisionTreeClassifier"
   ]
  },
  {
   "cell_type": "code",
   "execution_count": 2,
   "metadata": {},
   "outputs": [
    {
     "data": {
      "text/html": [
       "<div>\n",
       "<style scoped>\n",
       "    .dataframe tbody tr th:only-of-type {\n",
       "        vertical-align: middle;\n",
       "    }\n",
       "\n",
       "    .dataframe tbody tr th {\n",
       "        vertical-align: top;\n",
       "    }\n",
       "\n",
       "    .dataframe thead th {\n",
       "        text-align: right;\n",
       "    }\n",
       "</style>\n",
       "<table border=\"1\" class=\"dataframe\">\n",
       "  <thead>\n",
       "    <tr style=\"text-align: right;\">\n",
       "      <th></th>\n",
       "      <th>species</th>\n",
       "      <th>island</th>\n",
       "      <th>bill_length_mm</th>\n",
       "      <th>bill_depth_mm</th>\n",
       "      <th>flipper_length_mm</th>\n",
       "      <th>body_mass_g</th>\n",
       "      <th>sex</th>\n",
       "    </tr>\n",
       "  </thead>\n",
       "  <tbody>\n",
       "    <tr>\n",
       "      <th>0</th>\n",
       "      <td>Adelie</td>\n",
       "      <td>Torgersen</td>\n",
       "      <td>39.1</td>\n",
       "      <td>18.7</td>\n",
       "      <td>181.0</td>\n",
       "      <td>3750.0</td>\n",
       "      <td>Male</td>\n",
       "    </tr>\n",
       "    <tr>\n",
       "      <th>1</th>\n",
       "      <td>Adelie</td>\n",
       "      <td>Torgersen</td>\n",
       "      <td>39.5</td>\n",
       "      <td>17.4</td>\n",
       "      <td>186.0</td>\n",
       "      <td>3800.0</td>\n",
       "      <td>Female</td>\n",
       "    </tr>\n",
       "    <tr>\n",
       "      <th>2</th>\n",
       "      <td>Adelie</td>\n",
       "      <td>Torgersen</td>\n",
       "      <td>40.3</td>\n",
       "      <td>18.0</td>\n",
       "      <td>195.0</td>\n",
       "      <td>3250.0</td>\n",
       "      <td>Female</td>\n",
       "    </tr>\n",
       "    <tr>\n",
       "      <th>3</th>\n",
       "      <td>Adelie</td>\n",
       "      <td>Torgersen</td>\n",
       "      <td>NaN</td>\n",
       "      <td>NaN</td>\n",
       "      <td>NaN</td>\n",
       "      <td>NaN</td>\n",
       "      <td>NaN</td>\n",
       "    </tr>\n",
       "    <tr>\n",
       "      <th>4</th>\n",
       "      <td>Adelie</td>\n",
       "      <td>Torgersen</td>\n",
       "      <td>36.7</td>\n",
       "      <td>19.3</td>\n",
       "      <td>193.0</td>\n",
       "      <td>3450.0</td>\n",
       "      <td>Female</td>\n",
       "    </tr>\n",
       "  </tbody>\n",
       "</table>\n",
       "</div>"
      ],
      "text/plain": [
       "  species     island  bill_length_mm  bill_depth_mm  flipper_length_mm  \\\n",
       "0  Adelie  Torgersen            39.1           18.7              181.0   \n",
       "1  Adelie  Torgersen            39.5           17.4              186.0   \n",
       "2  Adelie  Torgersen            40.3           18.0              195.0   \n",
       "3  Adelie  Torgersen             NaN            NaN                NaN   \n",
       "4  Adelie  Torgersen            36.7           19.3              193.0   \n",
       "\n",
       "   body_mass_g     sex  \n",
       "0       3750.0    Male  \n",
       "1       3800.0  Female  \n",
       "2       3250.0  Female  \n",
       "3          NaN     NaN  \n",
       "4       3450.0  Female  "
      ]
     },
     "execution_count": 2,
     "metadata": {},
     "output_type": "execute_result"
    }
   ],
   "source": [
    "penguins.head()"
   ]
  },
  {
   "cell_type": "code",
   "execution_count": 3,
   "metadata": {},
   "outputs": [],
   "source": [
    "from sklearn import tree\n",
    "import graphviz\n",
    "\n",
    "def plot_tree_classification(model, features, class_names):\n",
    "    # Generate plot data\n",
    "    dot_data = tree.export_graphviz(model, out_file=None, \n",
    "                          feature_names=features,  \n",
    "                          class_names=class_names,  \n",
    "                          filled=True, rounded=True,  \n",
    "                          special_characters=True)  \n",
    "\n",
    "    # Turn into graph using graphviz\n",
    "    graph = graphviz.Source(dot_data)  \n",
    "\n",
    "    # Write out a pdf\n",
    "    graph.render(\"decision_tree\")\n",
    "\n",
    "    # Display in the notebook\n",
    "    return graph "
   ]
  },
  {
   "cell_type": "code",
   "execution_count": 4,
   "metadata": {},
   "outputs": [],
   "source": [
    "def calculate_accuracy(predictions, actuals):\n",
    "    if(len(predictions) != len(actuals)):\n",
    "        raise Exception(\"The amount of predictions did not equal the amount of actuals\")\n",
    "    \n",
    "    return (predictions == actuals).sum() / len(actuals)"
   ]
  },
  {
   "cell_type": "markdown",
   "metadata": {},
   "source": [
    "### Test/train split"
   ]
  },
  {
   "cell_type": "code",
   "execution_count": 5,
   "metadata": {},
   "outputs": [
    {
     "name": "stdout",
     "output_type": "stream",
     "text": [
      "(240, 7) (104, 7)\n"
     ]
    }
   ],
   "source": [
    "penguins_train, penguins_test = train_test_split(penguins, test_size=0.3, stratify=penguins['species'], random_state=42)\n",
    "print(penguins_train.shape, penguins_test.shape)"
   ]
  },
  {
   "cell_type": "code",
   "execution_count": 6,
   "metadata": {},
   "outputs": [
    {
     "name": "stdout",
     "output_type": "stream",
     "text": [
      "344\n",
      "342\n"
     ]
    }
   ],
   "source": [
    "before = len(penguins[\"bill_length_mm\"])\n",
    "after = len(penguins[\"bill_length_mm\"].dropna())\n",
    "\n",
    "print(before)\n",
    "print(after)"
   ]
  },
  {
   "cell_type": "markdown",
   "metadata": {},
   "source": [
    "### Trainset"
   ]
  },
  {
   "cell_type": "code",
   "execution_count": 7,
   "metadata": {},
   "outputs": [
    {
     "data": {
      "text/plain": [
       "DecisionTreeClassifier(max_depth=2)"
      ]
     },
     "execution_count": 7,
     "metadata": {},
     "output_type": "execute_result"
    }
   ],
   "source": [
    "features= ['bill_length_mm','bill_depth_mm']\n",
    "dt = DecisionTreeClassifier(max_depth = 2) # Increase max_depth to see effect in the plot\n",
    "dt.fit(penguins_train[features].fillna(penguins_train.mean()), penguins_train['species'])"
   ]
  },
  {
   "cell_type": "code",
   "execution_count": 8,
   "metadata": {},
   "outputs": [
    {
     "data": {
      "image/svg+xml": [
       "<?xml version=\"1.0\" encoding=\"UTF-8\" standalone=\"no\"?>\r\n",
       "<!DOCTYPE svg PUBLIC \"-//W3C//DTD SVG 1.1//EN\"\r\n",
       " \"http://www.w3.org/Graphics/SVG/1.1/DTD/svg11.dtd\">\r\n",
       "<!-- Generated by graphviz version 2.38.0 (20140413.2041)\r\n",
       " -->\r\n",
       "<!-- Title: Tree Pages: 1 -->\r\n",
       "<svg width=\"579pt\" height=\"314pt\"\r\n",
       " viewBox=\"0.00 0.00 579.00 314.00\" xmlns=\"http://www.w3.org/2000/svg\" xmlns:xlink=\"http://www.w3.org/1999/xlink\">\r\n",
       "<g id=\"graph0\" class=\"graph\" transform=\"scale(1 1) rotate(0) translate(4 310)\">\r\n",
       "<title>Tree</title>\r\n",
       "<polygon fill=\"white\" stroke=\"none\" points=\"-4,4 -4,-310 575,-310 575,4 -4,4\"/>\r\n",
       "<!-- 0 -->\r\n",
       "<g id=\"node1\" class=\"node\"><title>0</title>\r\n",
       "<path fill=\"#fcefe6\" stroke=\"black\" d=\"M358.5,-306C358.5,-306 218.5,-306 218.5,-306 212.5,-306 206.5,-300 206.5,-294 206.5,-294 206.5,-235 206.5,-235 206.5,-229 212.5,-223 218.5,-223 218.5,-223 358.5,-223 358.5,-223 364.5,-223 370.5,-229 370.5,-235 370.5,-235 370.5,-294 370.5,-294 370.5,-300 364.5,-306 358.5,-306\"/>\r\n",
       "<text text-anchor=\"start\" x=\"214.5\" y=\"-290.8\" font-family=\"Helvetica,sans-Serif\" font-size=\"14.00\">bill_length_mm ≤ 43.25</text>\r\n",
       "<text text-anchor=\"start\" x=\"251\" y=\"-275.8\" font-family=\"Helvetica,sans-Serif\" font-size=\"14.00\">gini = 0.635</text>\r\n",
       "<text text-anchor=\"start\" x=\"241\" y=\"-260.8\" font-family=\"Helvetica,sans-Serif\" font-size=\"14.00\">samples = 240</text>\r\n",
       "<text text-anchor=\"start\" x=\"223.5\" y=\"-245.8\" font-family=\"Helvetica,sans-Serif\" font-size=\"14.00\">value = [106, 47, 87]</text>\r\n",
       "<text text-anchor=\"start\" x=\"243.5\" y=\"-230.8\" font-family=\"Helvetica,sans-Serif\" font-size=\"14.00\">class = Adelie</text>\r\n",
       "</g>\r\n",
       "<!-- 1 -->\r\n",
       "<g id=\"node2\" class=\"node\"><title>1</title>\r\n",
       "<path fill=\"#e78946\" stroke=\"black\" d=\"M263.5,-187C263.5,-187 133.5,-187 133.5,-187 127.5,-187 121.5,-181 121.5,-175 121.5,-175 121.5,-116 121.5,-116 121.5,-110 127.5,-104 133.5,-104 133.5,-104 263.5,-104 263.5,-104 269.5,-104 275.5,-110 275.5,-116 275.5,-116 275.5,-175 275.5,-175 275.5,-181 269.5,-187 263.5,-187\"/>\r\n",
       "<text text-anchor=\"start\" x=\"129.5\" y=\"-171.8\" font-family=\"Helvetica,sans-Serif\" font-size=\"14.00\">bill_depth_mm ≤ 14.8</text>\r\n",
       "<text text-anchor=\"start\" x=\"161\" y=\"-156.8\" font-family=\"Helvetica,sans-Serif\" font-size=\"14.00\">gini = 0.123</text>\r\n",
       "<text text-anchor=\"start\" x=\"151\" y=\"-141.8\" font-family=\"Helvetica,sans-Serif\" font-size=\"14.00\">samples = 108</text>\r\n",
       "<text text-anchor=\"start\" x=\"142\" y=\"-126.8\" font-family=\"Helvetica,sans-Serif\" font-size=\"14.00\">value = [101, 4, 3]</text>\r\n",
       "<text text-anchor=\"start\" x=\"153.5\" y=\"-111.8\" font-family=\"Helvetica,sans-Serif\" font-size=\"14.00\">class = Adelie</text>\r\n",
       "</g>\r\n",
       "<!-- 0&#45;&gt;1 -->\r\n",
       "<g id=\"edge1\" class=\"edge\"><title>0&#45;&gt;1</title>\r\n",
       "<path fill=\"none\" stroke=\"black\" d=\"M257.275,-222.907C250.364,-213.923 242.973,-204.315 235.846,-195.05\"/>\r\n",
       "<polygon fill=\"black\" stroke=\"black\" points=\"238.541,-192.813 229.67,-187.021 232.993,-197.081 238.541,-192.813\"/>\r\n",
       "<text text-anchor=\"middle\" x=\"226.436\" y=\"-208.111\" font-family=\"Helvetica,sans-Serif\" font-size=\"14.00\">True</text>\r\n",
       "</g>\r\n",
       "<!-- 4 -->\r\n",
       "<g id=\"node5\" class=\"node\"><title>4</title>\r\n",
       "<path fill=\"#c5a4f3\" stroke=\"black\" d=\"M451.5,-187C451.5,-187 305.5,-187 305.5,-187 299.5,-187 293.5,-181 293.5,-175 293.5,-175 293.5,-116 293.5,-116 293.5,-110 299.5,-104 305.5,-104 305.5,-104 451.5,-104 451.5,-104 457.5,-104 463.5,-110 463.5,-116 463.5,-116 463.5,-175 463.5,-175 463.5,-181 457.5,-187 451.5,-187\"/>\r\n",
       "<text text-anchor=\"start\" x=\"301.5\" y=\"-171.8\" font-family=\"Helvetica,sans-Serif\" font-size=\"14.00\">bill_depth_mm ≤ 17.129</text>\r\n",
       "<text text-anchor=\"start\" x=\"341\" y=\"-156.8\" font-family=\"Helvetica,sans-Serif\" font-size=\"14.00\">gini = 0.487</text>\r\n",
       "<text text-anchor=\"start\" x=\"331\" y=\"-141.8\" font-family=\"Helvetica,sans-Serif\" font-size=\"14.00\">samples = 132</text>\r\n",
       "<text text-anchor=\"start\" x=\"322\" y=\"-126.8\" font-family=\"Helvetica,sans-Serif\" font-size=\"14.00\">value = [5, 43, 84]</text>\r\n",
       "<text text-anchor=\"start\" x=\"324\" y=\"-111.8\" font-family=\"Helvetica,sans-Serif\" font-size=\"14.00\">class = Chinstrap</text>\r\n",
       "</g>\r\n",
       "<!-- 0&#45;&gt;4 -->\r\n",
       "<g id=\"edge4\" class=\"edge\"><title>0&#45;&gt;4</title>\r\n",
       "<path fill=\"none\" stroke=\"black\" d=\"M319.725,-222.907C326.636,-213.923 334.027,-204.315 341.154,-195.05\"/>\r\n",
       "<polygon fill=\"black\" stroke=\"black\" points=\"344.007,-197.081 347.33,-187.021 338.459,-192.813 344.007,-197.081\"/>\r\n",
       "<text text-anchor=\"middle\" x=\"350.564\" y=\"-208.111\" font-family=\"Helvetica,sans-Serif\" font-size=\"14.00\">False</text>\r\n",
       "</g>\r\n",
       "<!-- 2 -->\r\n",
       "<g id=\"node3\" class=\"node\"><title>2</title>\r\n",
       "<path fill=\"#8139e5\" stroke=\"black\" d=\"M113,-68C113,-68 12,-68 12,-68 6,-68 0,-62 0,-56 0,-56 0,-12 0,-12 0,-6 6,-0 12,-0 12,-0 113,-0 113,-0 119,-0 125,-6 125,-12 125,-12 125,-56 125,-56 125,-62 119,-68 113,-68\"/>\r\n",
       "<text text-anchor=\"start\" x=\"33.5\" y=\"-52.8\" font-family=\"Helvetica,sans-Serif\" font-size=\"14.00\">gini = 0.0</text>\r\n",
       "<text text-anchor=\"start\" x=\"23\" y=\"-37.8\" font-family=\"Helvetica,sans-Serif\" font-size=\"14.00\">samples = 3</text>\r\n",
       "<text text-anchor=\"start\" x=\"14\" y=\"-22.8\" font-family=\"Helvetica,sans-Serif\" font-size=\"14.00\">value = [0, 0, 3]</text>\r\n",
       "<text text-anchor=\"start\" x=\"8\" y=\"-7.8\" font-family=\"Helvetica,sans-Serif\" font-size=\"14.00\">class = Chinstrap</text>\r\n",
       "</g>\r\n",
       "<!-- 1&#45;&gt;2 -->\r\n",
       "<g id=\"edge2\" class=\"edge\"><title>1&#45;&gt;2</title>\r\n",
       "<path fill=\"none\" stroke=\"black\" d=\"M147.859,-103.726C136.077,-94.2406 123.551,-84.1551 111.827,-74.7159\"/>\r\n",
       "<polygon fill=\"black\" stroke=\"black\" points=\"113.843,-71.8448 103.858,-68.2996 109.453,-77.2972 113.843,-71.8448\"/>\r\n",
       "</g>\r\n",
       "<!-- 3 -->\r\n",
       "<g id=\"node4\" class=\"node\"><title>3</title>\r\n",
       "<path fill=\"#e68641\" stroke=\"black\" d=\"M260,-68C260,-68 155,-68 155,-68 149,-68 143,-62 143,-56 143,-56 143,-12 143,-12 143,-6 149,-0 155,-0 155,-0 260,-0 260,-0 266,-0 272,-6 272,-12 272,-12 272,-56 272,-56 272,-62 266,-68 260,-68\"/>\r\n",
       "<text text-anchor=\"start\" x=\"170\" y=\"-52.8\" font-family=\"Helvetica,sans-Serif\" font-size=\"14.00\">gini = 0.073</text>\r\n",
       "<text text-anchor=\"start\" x=\"160\" y=\"-37.8\" font-family=\"Helvetica,sans-Serif\" font-size=\"14.00\">samples = 105</text>\r\n",
       "<text text-anchor=\"start\" x=\"151\" y=\"-22.8\" font-family=\"Helvetica,sans-Serif\" font-size=\"14.00\">value = [101, 4, 0]</text>\r\n",
       "<text text-anchor=\"start\" x=\"162.5\" y=\"-7.8\" font-family=\"Helvetica,sans-Serif\" font-size=\"14.00\">class = Adelie</text>\r\n",
       "</g>\r\n",
       "<!-- 1&#45;&gt;3 -->\r\n",
       "<g id=\"edge3\" class=\"edge\"><title>1&#45;&gt;3</title>\r\n",
       "<path fill=\"none\" stroke=\"black\" d=\"M201.851,-103.726C202.533,-95.4263 203.253,-86.6671 203.942,-78.2834\"/>\r\n",
       "<polygon fill=\"black\" stroke=\"black\" points=\"207.432,-78.5527 204.763,-68.2996 200.456,-77.9793 207.432,-78.5527\"/>\r\n",
       "</g>\r\n",
       "<!-- 5 -->\r\n",
       "<g id=\"node6\" class=\"node\"><title>5</title>\r\n",
       "<path fill=\"#8640e6\" stroke=\"black\" d=\"M420,-68C420,-68 319,-68 319,-68 313,-68 307,-62 307,-56 307,-56 307,-12 307,-12 307,-6 313,-0 319,-0 319,-0 420,-0 420,-0 426,-0 432,-6 432,-12 432,-12 432,-56 432,-56 432,-62 426,-68 420,-68\"/>\r\n",
       "<text text-anchor=\"start\" x=\"332\" y=\"-52.8\" font-family=\"Helvetica,sans-Serif\" font-size=\"14.00\">gini = 0.067</text>\r\n",
       "<text text-anchor=\"start\" x=\"326\" y=\"-37.8\" font-family=\"Helvetica,sans-Serif\" font-size=\"14.00\">samples = 87</text>\r\n",
       "<text text-anchor=\"start\" x=\"317\" y=\"-22.8\" font-family=\"Helvetica,sans-Serif\" font-size=\"14.00\">value = [0, 3, 84]</text>\r\n",
       "<text text-anchor=\"start\" x=\"315\" y=\"-7.8\" font-family=\"Helvetica,sans-Serif\" font-size=\"14.00\">class = Chinstrap</text>\r\n",
       "</g>\r\n",
       "<!-- 4&#45;&gt;5 -->\r\n",
       "<g id=\"edge5\" class=\"edge\"><title>4&#45;&gt;5</title>\r\n",
       "<path fill=\"none\" stroke=\"black\" d=\"M375.149,-103.726C374.467,-95.4263 373.747,-86.6671 373.058,-78.2834\"/>\r\n",
       "<polygon fill=\"black\" stroke=\"black\" points=\"376.544,-77.9793 372.237,-68.2996 369.568,-78.5527 376.544,-77.9793\"/>\r\n",
       "</g>\r\n",
       "<!-- 6 -->\r\n",
       "<g id=\"node7\" class=\"node\"><title>6</title>\r\n",
       "<path fill=\"#52e891\" stroke=\"black\" d=\"M559,-68C559,-68 462,-68 462,-68 456,-68 450,-62 450,-56 450,-56 450,-12 450,-12 450,-6 456,-0 462,-0 462,-0 559,-0 559,-0 565,-0 571,-6 571,-12 571,-12 571,-56 571,-56 571,-62 565,-68 559,-68\"/>\r\n",
       "<text text-anchor=\"start\" x=\"473\" y=\"-52.8\" font-family=\"Helvetica,sans-Serif\" font-size=\"14.00\">gini = 0.198</text>\r\n",
       "<text text-anchor=\"start\" x=\"467\" y=\"-37.8\" font-family=\"Helvetica,sans-Serif\" font-size=\"14.00\">samples = 45</text>\r\n",
       "<text text-anchor=\"start\" x=\"458\" y=\"-22.8\" font-family=\"Helvetica,sans-Serif\" font-size=\"14.00\">value = [5, 40, 0]</text>\r\n",
       "<text text-anchor=\"start\" x=\"462\" y=\"-7.8\" font-family=\"Helvetica,sans-Serif\" font-size=\"14.00\">class = Gentoo</text>\r\n",
       "</g>\r\n",
       "<!-- 4&#45;&gt;6 -->\r\n",
       "<g id=\"edge6\" class=\"edge\"><title>4&#45;&gt;6</title>\r\n",
       "<path fill=\"none\" stroke=\"black\" d=\"M427.652,-103.726C439.087,-94.2406 451.245,-84.1551 462.623,-74.7159\"/>\r\n",
       "<polygon fill=\"black\" stroke=\"black\" points=\"464.896,-77.3781 470.358,-68.2996 460.427,-71.9905 464.896,-77.3781\"/>\r\n",
       "</g>\r\n",
       "</g>\r\n",
       "</svg>\r\n"
      ],
      "text/plain": [
       "<graphviz.files.Source at 0x1efc7d96580>"
      ]
     },
     "execution_count": 8,
     "metadata": {},
     "output_type": "execute_result"
    }
   ],
   "source": [
    "plot_tree_classification(dt, features, penguins_train.species.unique())"
   ]
  },
  {
   "cell_type": "code",
   "execution_count": 9,
   "metadata": {
    "scrolled": true
   },
   "outputs": [
    {
     "name": "stdout",
     "output_type": "stream",
     "text": [
      "Accuracy on training set 0.95\n"
     ]
    }
   ],
   "source": [
    "predictionsOnTrainset = dt.predict(penguins_train[features].fillna(penguins_train.mean()))\n",
    "calculate_accuracy(predictionsOnTrainset, penguins_train.species)\n",
    "\n",
    "accuracyTrain = calculate_accuracy(predictionsOnTrainset, penguins_train.species)\n",
    "print(\"Accuracy on training set \" + str(accuracyTrain))"
   ]
  },
  {
   "cell_type": "markdown",
   "metadata": {},
   "source": [
    "### Testset"
   ]
  },
  {
   "cell_type": "code",
   "execution_count": 10,
   "metadata": {},
   "outputs": [
    {
     "data": {
      "text/plain": [
       "DecisionTreeClassifier(max_depth=2)"
      ]
     },
     "execution_count": 10,
     "metadata": {},
     "output_type": "execute_result"
    }
   ],
   "source": [
    "dt.fit(penguins_test[features].fillna(penguins_test.mean()), penguins_test['species'])"
   ]
  },
  {
   "cell_type": "code",
   "execution_count": 11,
   "metadata": {},
   "outputs": [
    {
     "data": {
      "image/svg+xml": [
       "<?xml version=\"1.0\" encoding=\"UTF-8\" standalone=\"no\"?>\r\n",
       "<!DOCTYPE svg PUBLIC \"-//W3C//DTD SVG 1.1//EN\"\r\n",
       " \"http://www.w3.org/Graphics/SVG/1.1/DTD/svg11.dtd\">\r\n",
       "<!-- Generated by graphviz version 2.38.0 (20140413.2041)\r\n",
       " -->\r\n",
       "<!-- Title: Tree Pages: 1 -->\r\n",
       "<svg width=\"560pt\" height=\"314pt\"\r\n",
       " viewBox=\"0.00 0.00 560.00 314.00\" xmlns=\"http://www.w3.org/2000/svg\" xmlns:xlink=\"http://www.w3.org/1999/xlink\">\r\n",
       "<g id=\"graph0\" class=\"graph\" transform=\"scale(1 1) rotate(0) translate(4 310)\">\r\n",
       "<title>Tree</title>\r\n",
       "<polygon fill=\"white\" stroke=\"none\" points=\"-4,4 -4,-310 556,-310 556,4 -4,4\"/>\r\n",
       "<!-- 0 -->\r\n",
       "<g id=\"node1\" class=\"node\"><title>0</title>\r\n",
       "<path fill=\"#fceee4\" stroke=\"black\" d=\"M335.5,-306C335.5,-306 203.5,-306 203.5,-306 197.5,-306 191.5,-300 191.5,-294 191.5,-294 191.5,-235 191.5,-235 191.5,-229 197.5,-223 203.5,-223 203.5,-223 335.5,-223 335.5,-223 341.5,-223 347.5,-229 347.5,-235 347.5,-235 347.5,-294 347.5,-294 347.5,-300 341.5,-306 335.5,-306\"/>\r\n",
       "<text text-anchor=\"start\" x=\"199.5\" y=\"-290.8\" font-family=\"Helvetica,sans-Serif\" font-size=\"14.00\">bill_length_mm ≤ 41.6</text>\r\n",
       "<text text-anchor=\"start\" x=\"232\" y=\"-275.8\" font-family=\"Helvetica,sans-Serif\" font-size=\"14.00\">gini = 0.637</text>\r\n",
       "<text text-anchor=\"start\" x=\"222\" y=\"-260.8\" font-family=\"Helvetica,sans-Serif\" font-size=\"14.00\">samples = 104</text>\r\n",
       "<text text-anchor=\"start\" x=\"209\" y=\"-245.8\" font-family=\"Helvetica,sans-Serif\" font-size=\"14.00\">value = [46, 21, 37]</text>\r\n",
       "<text text-anchor=\"start\" x=\"221\" y=\"-230.8\" font-family=\"Helvetica,sans-Serif\" font-size=\"14.00\">class = Gentoo</text>\r\n",
       "</g>\r\n",
       "<!-- 1 -->\r\n",
       "<g id=\"node2\" class=\"node\"><title>1</title>\r\n",
       "<path fill=\"#e6843e\" stroke=\"black\" d=\"M246.5,-187C246.5,-187 116.5,-187 116.5,-187 110.5,-187 104.5,-181 104.5,-175 104.5,-175 104.5,-116 104.5,-116 104.5,-110 110.5,-104 116.5,-104 116.5,-104 246.5,-104 246.5,-104 252.5,-104 258.5,-110 258.5,-116 258.5,-116 258.5,-175 258.5,-175 258.5,-181 252.5,-187 246.5,-187\"/>\r\n",
       "<text text-anchor=\"start\" x=\"112.5\" y=\"-171.8\" font-family=\"Helvetica,sans-Serif\" font-size=\"14.00\">bill_depth_mm ≤ 14.6</text>\r\n",
       "<text text-anchor=\"start\" x=\"144\" y=\"-156.8\" font-family=\"Helvetica,sans-Serif\" font-size=\"14.00\">gini = 0.045</text>\r\n",
       "<text text-anchor=\"start\" x=\"138\" y=\"-141.8\" font-family=\"Helvetica,sans-Serif\" font-size=\"14.00\">samples = 43</text>\r\n",
       "<text text-anchor=\"start\" x=\"129\" y=\"-126.8\" font-family=\"Helvetica,sans-Serif\" font-size=\"14.00\">value = [42, 0, 1]</text>\r\n",
       "<text text-anchor=\"start\" x=\"133\" y=\"-111.8\" font-family=\"Helvetica,sans-Serif\" font-size=\"14.00\">class = Gentoo</text>\r\n",
       "</g>\r\n",
       "<!-- 0&#45;&gt;1 -->\r\n",
       "<g id=\"edge1\" class=\"edge\"><title>0&#45;&gt;1</title>\r\n",
       "<path fill=\"none\" stroke=\"black\" d=\"M238.969,-222.907C232.211,-213.923 224.985,-204.315 218.016,-195.05\"/>\r\n",
       "<polygon fill=\"black\" stroke=\"black\" points=\"220.785,-192.909 211.977,-187.021 215.191,-197.116 220.785,-192.909\"/>\r\n",
       "<text text-anchor=\"middle\" x=\"208.475\" y=\"-208.074\" font-family=\"Helvetica,sans-Serif\" font-size=\"14.00\">True</text>\r\n",
       "</g>\r\n",
       "<!-- 4 -->\r\n",
       "<g id=\"node5\" class=\"node\"><title>4</title>\r\n",
       "<path fill=\"#d0b5f5\" stroke=\"black\" d=\"M426.5,-187C426.5,-187 288.5,-187 288.5,-187 282.5,-187 276.5,-181 276.5,-175 276.5,-175 276.5,-116 276.5,-116 276.5,-110 282.5,-104 288.5,-104 288.5,-104 426.5,-104 426.5,-104 432.5,-104 438.5,-110 438.5,-116 438.5,-116 438.5,-175 438.5,-175 438.5,-181 432.5,-187 426.5,-187\"/>\r\n",
       "<text text-anchor=\"start\" x=\"284.5\" y=\"-171.8\" font-family=\"Helvetica,sans-Serif\" font-size=\"14.00\">bill_depth_mm ≤ 16.35</text>\r\n",
       "<text text-anchor=\"start\" x=\"320\" y=\"-156.8\" font-family=\"Helvetica,sans-Serif\" font-size=\"14.00\">gini = 0.529</text>\r\n",
       "<text text-anchor=\"start\" x=\"314\" y=\"-141.8\" font-family=\"Helvetica,sans-Serif\" font-size=\"14.00\">samples = 61</text>\r\n",
       "<text text-anchor=\"start\" x=\"301\" y=\"-126.8\" font-family=\"Helvetica,sans-Serif\" font-size=\"14.00\">value = [4, 21, 36]</text>\r\n",
       "<text text-anchor=\"start\" x=\"312.5\" y=\"-111.8\" font-family=\"Helvetica,sans-Serif\" font-size=\"14.00\">class = Adelie</text>\r\n",
       "</g>\r\n",
       "<!-- 0&#45;&gt;4 -->\r\n",
       "<g id=\"edge4\" class=\"edge\"><title>0&#45;&gt;4</title>\r\n",
       "<path fill=\"none\" stroke=\"black\" d=\"M300.031,-222.907C306.789,-213.923 314.015,-204.315 320.984,-195.05\"/>\r\n",
       "<polygon fill=\"black\" stroke=\"black\" points=\"323.809,-197.116 327.023,-187.021 318.215,-192.909 323.809,-197.116\"/>\r\n",
       "<text text-anchor=\"middle\" x=\"330.525\" y=\"-208.074\" font-family=\"Helvetica,sans-Serif\" font-size=\"14.00\">False</text>\r\n",
       "</g>\r\n",
       "<!-- 2 -->\r\n",
       "<g id=\"node3\" class=\"node\"><title>2</title>\r\n",
       "<path fill=\"#8139e5\" stroke=\"black\" d=\"M101,-68C101,-68 12,-68 12,-68 6,-68 0,-62 0,-56 0,-56 0,-12 0,-12 0,-6 6,-0 12,-0 12,-0 101,-0 101,-0 107,-0 113,-6 113,-12 113,-12 113,-56 113,-56 113,-62 107,-68 101,-68\"/>\r\n",
       "<text text-anchor=\"start\" x=\"27.5\" y=\"-52.8\" font-family=\"Helvetica,sans-Serif\" font-size=\"14.00\">gini = 0.0</text>\r\n",
       "<text text-anchor=\"start\" x=\"17\" y=\"-37.8\" font-family=\"Helvetica,sans-Serif\" font-size=\"14.00\">samples = 1</text>\r\n",
       "<text text-anchor=\"start\" x=\"8\" y=\"-22.8\" font-family=\"Helvetica,sans-Serif\" font-size=\"14.00\">value = [0, 0, 1]</text>\r\n",
       "<text text-anchor=\"start\" x=\"11.5\" y=\"-7.8\" font-family=\"Helvetica,sans-Serif\" font-size=\"14.00\">class = Adelie</text>\r\n",
       "</g>\r\n",
       "<!-- 1&#45;&gt;2 -->\r\n",
       "<g id=\"edge2\" class=\"edge\"><title>1&#45;&gt;2</title>\r\n",
       "<path fill=\"none\" stroke=\"black\" d=\"M134.955,-103.726C124.23,-94.3318 112.834,-84.349 102.149,-74.9883\"/>\r\n",
       "<polygon fill=\"black\" stroke=\"black\" points=\"104.342,-72.2562 94.5132,-68.2996 99.729,-77.5217 104.342,-72.2562\"/>\r\n",
       "</g>\r\n",
       "<!-- 3 -->\r\n",
       "<g id=\"node4\" class=\"node\"><title>3</title>\r\n",
       "<path fill=\"#e58139\" stroke=\"black\" d=\"M240,-68C240,-68 143,-68 143,-68 137,-68 131,-62 131,-56 131,-56 131,-12 131,-12 131,-6 137,-0 143,-0 143,-0 240,-0 240,-0 246,-0 252,-6 252,-12 252,-12 252,-56 252,-56 252,-62 246,-68 240,-68\"/>\r\n",
       "<text text-anchor=\"start\" x=\"162.5\" y=\"-52.8\" font-family=\"Helvetica,sans-Serif\" font-size=\"14.00\">gini = 0.0</text>\r\n",
       "<text text-anchor=\"start\" x=\"148\" y=\"-37.8\" font-family=\"Helvetica,sans-Serif\" font-size=\"14.00\">samples = 42</text>\r\n",
       "<text text-anchor=\"start\" x=\"139\" y=\"-22.8\" font-family=\"Helvetica,sans-Serif\" font-size=\"14.00\">value = [42, 0, 0]</text>\r\n",
       "<text text-anchor=\"start\" x=\"143\" y=\"-7.8\" font-family=\"Helvetica,sans-Serif\" font-size=\"14.00\">class = Gentoo</text>\r\n",
       "</g>\r\n",
       "<!-- 1&#45;&gt;3 -->\r\n",
       "<g id=\"edge3\" class=\"edge\"><title>1&#45;&gt;3</title>\r\n",
       "<path fill=\"none\" stroke=\"black\" d=\"M185.224,-103.726C185.982,-95.4263 186.782,-86.6671 187.547,-78.2834\"/>\r\n",
       "<polygon fill=\"black\" stroke=\"black\" points=\"191.035,-78.5765 188.459,-68.2996 184.064,-77.9398 191.035,-78.5765\"/>\r\n",
       "</g>\r\n",
       "<!-- 5 -->\r\n",
       "<g id=\"node6\" class=\"node\"><title>5</title>\r\n",
       "<path fill=\"#8139e5\" stroke=\"black\" d=\"M397,-68C397,-68 300,-68 300,-68 294,-68 288,-62 288,-56 288,-56 288,-12 288,-12 288,-6 294,-0 300,-0 300,-0 397,-0 397,-0 403,-0 409,-6 409,-12 409,-12 409,-56 409,-56 409,-62 403,-68 397,-68\"/>\r\n",
       "<text text-anchor=\"start\" x=\"319.5\" y=\"-52.8\" font-family=\"Helvetica,sans-Serif\" font-size=\"14.00\">gini = 0.0</text>\r\n",
       "<text text-anchor=\"start\" x=\"305\" y=\"-37.8\" font-family=\"Helvetica,sans-Serif\" font-size=\"14.00\">samples = 31</text>\r\n",
       "<text text-anchor=\"start\" x=\"296\" y=\"-22.8\" font-family=\"Helvetica,sans-Serif\" font-size=\"14.00\">value = [0, 0, 31]</text>\r\n",
       "<text text-anchor=\"start\" x=\"303.5\" y=\"-7.8\" font-family=\"Helvetica,sans-Serif\" font-size=\"14.00\">class = Adelie</text>\r\n",
       "</g>\r\n",
       "<!-- 4&#45;&gt;5 -->\r\n",
       "<g id=\"edge5\" class=\"edge\"><title>4&#45;&gt;5</title>\r\n",
       "<path fill=\"none\" stroke=\"black\" d=\"M354.149,-103.726C353.467,-95.4263 352.747,-86.6671 352.058,-78.2834\"/>\r\n",
       "<polygon fill=\"black\" stroke=\"black\" points=\"355.544,-77.9793 351.237,-68.2996 348.568,-78.5527 355.544,-77.9793\"/>\r\n",
       "</g>\r\n",
       "<!-- 6 -->\r\n",
       "<g id=\"node7\" class=\"node\"><title>6</title>\r\n",
       "<path fill=\"#80eeae\" stroke=\"black\" d=\"M540,-68C540,-68 439,-68 439,-68 433,-68 427,-62 427,-56 427,-56 427,-12 427,-12 427,-6 433,-0 439,-0 439,-0 540,-0 540,-0 546,-0 552,-6 552,-12 552,-12 552,-56 552,-56 552,-62 546,-68 540,-68\"/>\r\n",
       "<text text-anchor=\"start\" x=\"452\" y=\"-52.8\" font-family=\"Helvetica,sans-Serif\" font-size=\"14.00\">gini = 0.464</text>\r\n",
       "<text text-anchor=\"start\" x=\"446\" y=\"-37.8\" font-family=\"Helvetica,sans-Serif\" font-size=\"14.00\">samples = 30</text>\r\n",
       "<text text-anchor=\"start\" x=\"437\" y=\"-22.8\" font-family=\"Helvetica,sans-Serif\" font-size=\"14.00\">value = [4, 21, 5]</text>\r\n",
       "<text text-anchor=\"start\" x=\"435\" y=\"-7.8\" font-family=\"Helvetica,sans-Serif\" font-size=\"14.00\">class = Chinstrap</text>\r\n",
       "</g>\r\n",
       "<!-- 4&#45;&gt;6 -->\r\n",
       "<g id=\"edge6\" class=\"edge\"><title>4&#45;&gt;6</title>\r\n",
       "<path fill=\"none\" stroke=\"black\" d=\"M406.652,-103.726C418.087,-94.2406 430.245,-84.1551 441.623,-74.7159\"/>\r\n",
       "<polygon fill=\"black\" stroke=\"black\" points=\"443.896,-77.3781 449.358,-68.2996 439.427,-71.9905 443.896,-77.3781\"/>\r\n",
       "</g>\r\n",
       "</g>\r\n",
       "</svg>\r\n"
      ],
      "text/plain": [
       "<graphviz.files.Source at 0x1efc7d7b700>"
      ]
     },
     "execution_count": 11,
     "metadata": {},
     "output_type": "execute_result"
    }
   ],
   "source": [
    "plot_tree_classification(dt, features, penguins_test.species.unique())"
   ]
  },
  {
   "cell_type": "code",
   "execution_count": 12,
   "metadata": {},
   "outputs": [
    {
     "name": "stdout",
     "output_type": "stream",
     "text": [
      "Accuracy on testing set 0.9134615384615384\n"
     ]
    }
   ],
   "source": [
    "predictionsOnTestset = dt.predict(penguins_test[features].fillna(penguins_test.mean()))\n",
    "calculate_accuracy(predictionsOnTestset, penguins_test.species)\n",
    "\n",
    "accuracyTest = calculate_accuracy(predictionsOnTestset, penguins_test.species)\n",
    "print(\"Accuracy on testing set \" + str(accuracyTest))"
   ]
  },
  {
   "cell_type": "markdown",
   "metadata": {},
   "source": [
    "### Difference Test/Train"
   ]
  },
  {
   "cell_type": "markdown",
   "metadata": {},
   "source": [
    "Er zit een klein verschil tussen de test en de train set. maar de Testset komt wel in de buurt van de Trainset. er is dus wel een verband aanwezig, voor nieuwe data die nog niet gezien is."
   ]
  },
  {
   "cell_type": "code",
   "execution_count": null,
   "metadata": {},
   "outputs": [],
   "source": []
  }
 ],
 "metadata": {
  "kernelspec": {
   "display_name": "Python 3",
   "language": "python",
   "name": "python3"
  },
  "language_info": {
   "codemirror_mode": {
    "name": "ipython",
    "version": 3
   },
   "file_extension": ".py",
   "mimetype": "text/x-python",
   "name": "python",
   "nbconvert_exporter": "python",
   "pygments_lexer": "ipython3",
   "version": "3.8.5"
  }
 },
 "nbformat": 4,
 "nbformat_minor": 4
}
